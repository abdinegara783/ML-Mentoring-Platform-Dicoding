{
  "nbformat": 4,
  "nbformat_minor": 0,
  "metadata": {
    "colab": {
      "provenance": [],
      "authorship_tag": "ABX9TyO3R/vQ7PLuJpCT6+WZG0Om",
      "include_colab_link": true
    },
    "kernelspec": {
      "name": "python3",
      "display_name": "Python 3"
    },
    "language_info": {
      "name": "python"
    }
  },
  "cells": [
    {
      "cell_type": "markdown",
      "metadata": {
        "id": "view-in-github",
        "colab_type": "text"
      },
      "source": [
        "<a href=\"https://colab.research.google.com/github/abdinegara783/ML-Mentoring-Platform-Dicoding/blob/main/FIX_FEEDBACK.ipynb\" target=\"_parent\"><img src=\"https://colab.research.google.com/assets/colab-badge.svg\" alt=\"Open In Colab\"/></a>"
      ]
    },
    {
      "cell_type": "code",
      "execution_count": 6,
      "metadata": {
        "colab": {
          "base_uri": "https://localhost:8080/"
        },
        "id": "q514BCp3F_S1",
        "outputId": "9d9c261c-9564-4111-c15b-b9cb89b59dbc"
      },
      "outputs": [
        {
          "output_type": "stream",
          "name": "stdout",
          "text": [
            "Looking in indexes: https://pypi.org/simple, https://us-python.pkg.dev/colab-wheels/public/simple/\n",
            "Requirement already satisfied: transformers in /usr/local/lib/python3.10/dist-packages (4.29.2)\n",
            "Requirement already satisfied: filelock in /usr/local/lib/python3.10/dist-packages (from transformers) (3.12.0)\n",
            "Requirement already satisfied: huggingface-hub<1.0,>=0.14.1 in /usr/local/lib/python3.10/dist-packages (from transformers) (0.15.1)\n",
            "Requirement already satisfied: numpy>=1.17 in /usr/local/lib/python3.10/dist-packages (from transformers) (1.22.4)\n",
            "Requirement already satisfied: packaging>=20.0 in /usr/local/lib/python3.10/dist-packages (from transformers) (23.1)\n",
            "Requirement already satisfied: pyyaml>=5.1 in /usr/local/lib/python3.10/dist-packages (from transformers) (6.0)\n",
            "Requirement already satisfied: regex!=2019.12.17 in /usr/local/lib/python3.10/dist-packages (from transformers) (2022.10.31)\n",
            "Requirement already satisfied: requests in /usr/local/lib/python3.10/dist-packages (from transformers) (2.27.1)\n",
            "Requirement already satisfied: tokenizers!=0.11.3,<0.14,>=0.11.1 in /usr/local/lib/python3.10/dist-packages (from transformers) (0.13.3)\n",
            "Requirement already satisfied: tqdm>=4.27 in /usr/local/lib/python3.10/dist-packages (from transformers) (4.65.0)\n",
            "Requirement already satisfied: fsspec in /usr/local/lib/python3.10/dist-packages (from huggingface-hub<1.0,>=0.14.1->transformers) (2023.4.0)\n",
            "Requirement already satisfied: typing-extensions>=3.7.4.3 in /usr/local/lib/python3.10/dist-packages (from huggingface-hub<1.0,>=0.14.1->transformers) (4.5.0)\n",
            "Requirement already satisfied: urllib3<1.27,>=1.21.1 in /usr/local/lib/python3.10/dist-packages (from requests->transformers) (1.26.15)\n",
            "Requirement already satisfied: certifi>=2017.4.17 in /usr/local/lib/python3.10/dist-packages (from requests->transformers) (2022.12.7)\n",
            "Requirement already satisfied: charset-normalizer~=2.0.0 in /usr/local/lib/python3.10/dist-packages (from requests->transformers) (2.0.12)\n",
            "Requirement already satisfied: idna<4,>=2.5 in /usr/local/lib/python3.10/dist-packages (from requests->transformers) (3.4)\n"
          ]
        }
      ],
      "source": [
        "pip install transformers"
      ]
    },
    {
      "cell_type": "code",
      "source": [
        "pip install translate"
      ],
      "metadata": {
        "colab": {
          "base_uri": "https://localhost:8080/"
        },
        "id": "RJVWjjPJwNuM",
        "outputId": "a16f2883-2ef7-415e-f951-6ec6819624f7"
      },
      "execution_count": 7,
      "outputs": [
        {
          "output_type": "stream",
          "name": "stdout",
          "text": [
            "Looking in indexes: https://pypi.org/simple, https://us-python.pkg.dev/colab-wheels/public/simple/\n",
            "Requirement already satisfied: translate in /usr/local/lib/python3.10/dist-packages (3.6.1)\n",
            "Requirement already satisfied: click in /usr/local/lib/python3.10/dist-packages (from translate) (8.1.3)\n",
            "Requirement already satisfied: lxml in /usr/local/lib/python3.10/dist-packages (from translate) (4.9.2)\n",
            "Requirement already satisfied: requests in /usr/local/lib/python3.10/dist-packages (from translate) (2.27.1)\n",
            "Requirement already satisfied: libretranslatepy==2.1.1 in /usr/local/lib/python3.10/dist-packages (from translate) (2.1.1)\n",
            "Requirement already satisfied: urllib3<1.27,>=1.21.1 in /usr/local/lib/python3.10/dist-packages (from requests->translate) (1.26.15)\n",
            "Requirement already satisfied: certifi>=2017.4.17 in /usr/local/lib/python3.10/dist-packages (from requests->translate) (2022.12.7)\n",
            "Requirement already satisfied: charset-normalizer~=2.0.0 in /usr/local/lib/python3.10/dist-packages (from requests->translate) (2.0.12)\n",
            "Requirement already satisfied: idna<4,>=2.5 in /usr/local/lib/python3.10/dist-packages (from requests->translate) (3.4)\n"
          ]
        }
      ]
    },
    {
      "cell_type": "code",
      "source": [
        "'''\n",
        "from transformers import AutoTokenizer, AutoModelForSequenceClassification\n",
        "\n",
        "tokenizer = AutoTokenizer.from_pretrained(\"Kaludi/Reviews-Sentiment-Analysis\")\n",
        "\n",
        "model1 = AutoModelForSequenceClassification.from_pretrained(\"Kaludi/Reviews-Sentiment-Analysis\")\n",
        "'''"
      ],
      "metadata": {
        "id": "FKFuUOQYIo04",
        "colab": {
          "base_uri": "https://localhost:8080/",
          "height": 54
        },
        "outputId": "1bff2b77-c0a1-44db-ae18-330eade029c3"
      },
      "execution_count": 8,
      "outputs": [
        {
          "output_type": "execute_result",
          "data": {
            "text/plain": [
              "'\\nfrom transformers import AutoTokenizer, AutoModelForSequenceClassification\\n\\ntokenizer = AutoTokenizer.from_pretrained(\"Kaludi/Reviews-Sentiment-Analysis\")\\n\\nmodel1 = AutoModelForSequenceClassification.from_pretrained(\"Kaludi/Reviews-Sentiment-Analysis\")\\n'"
            ],
            "application/vnd.google.colaboratory.intrinsic+json": {
              "type": "string"
            }
          },
          "metadata": {},
          "execution_count": 8
        }
      ]
    },
    {
      "cell_type": "code",
      "source": [
        "from transformers import AutoTokenizer, AutoModelForSequenceClassification\n",
        "from translate import Translator\n",
        "\n",
        "tokenizer = AutoTokenizer.from_pretrained(\"Kaludi/Reviews-Sentiment-Analysis\")\n",
        "model = AutoModelForSequenceClassification.from_pretrained(\"Kaludi/Reviews-Sentiment-Analysis\")\n",
        "translator = Translator(to_lang=\"en\", from_lang=\"id\")\n",
        "\n",
        "text = \"kamu tidak bagus\"\n",
        "\n",
        "# Terjemahkan teks ke bahasa Inggris\n",
        "translated_text = translator.translate(text)\n",
        "\n",
        "# Tokenisasi teks terjemahan\n",
        "encoded_input = tokenizer(translated_text, truncation=True, padding=True, return_tensors='pt')\n",
        "\n",
        "# Melakukan inferensi menggunakan model\n",
        "output = model(**encoded_input)\n",
        "\n",
        "# Mengambil prediksi sentimen\n",
        "sentiment_pred = output.logits.argmax().item()\n",
        "\n",
        "# Menampilkan hasil prediksi\n",
        "sentiment_labels = ['Negative', 'Positive']\n",
        "predicted_sentiment = sentiment_labels[sentiment_pred]\n",
        "print(\"Sentimen Prediksi:\", predicted_sentiment)\n"
      ],
      "metadata": {
        "colab": {
          "base_uri": "https://localhost:8080/"
        },
        "id": "Hc-_XWRNJJ5V",
        "outputId": "80088836-8e65-4066-da64-6a37e716710a"
      },
      "execution_count": 9,
      "outputs": [
        {
          "output_type": "stream",
          "name": "stderr",
          "text": [
            "Asking to truncate to max_length but no maximum length is provided and the model has no predefined maximum length. Default to no truncation.\n"
          ]
        },
        {
          "output_type": "stream",
          "name": "stdout",
          "text": [
            "Sentimen Prediksi: Negative\n"
          ]
        }
      ]
    },
    {
      "cell_type": "markdown",
      "source": [
        "# TEST DATA DENGAN BAHASA INDONESIA"
      ],
      "metadata": {
        "id": "gbmT4daZxmO0"
      }
    },
    {
      "cell_type": "markdown",
      "source": [
        "#### TEST DATA BAIK DENGAN BAHASA INDONESIA"
      ],
      "metadata": {
        "id": "ywW759p9xKDn"
      }
    },
    {
      "cell_type": "code",
      "source": [
        "text = \"kamu bekerja sangat baik\"\n",
        "\n",
        "# Terjemahkan teks ke bahasa Inggris\n",
        "translated_text = translator.translate(text)\n",
        "\n",
        "# Tokenisasi teks terjemahan\n",
        "encoded_input = tokenizer(translated_text, truncation=True, padding=True, return_tensors='pt')\n",
        "\n",
        "# Melakukan inferensi menggunakan model\n",
        "output = model(**encoded_input)\n",
        "\n",
        "# Mengambil prediksi sentimen\n",
        "sentiment_pred = output.logits.argmax().item()\n",
        "\n",
        "# Menampilkan hasil prediksi\n",
        "sentiment_labels = ['Negative', 'Positive']\n",
        "predicted_sentiment = sentiment_labels[sentiment_pred]\n",
        "print(\"Sentimen Prediksi:\", predicted_sentiment)\n"
      ],
      "metadata": {
        "colab": {
          "base_uri": "https://localhost:8080/"
        },
        "id": "cRXdsR35LsxC",
        "outputId": "48e6b7ef-b911-4763-a11a-539e7c72bb39"
      },
      "execution_count": 10,
      "outputs": [
        {
          "output_type": "stream",
          "name": "stdout",
          "text": [
            "Sentimen Prediksi: Positive\n"
          ]
        }
      ]
    },
    {
      "cell_type": "markdown",
      "source": [
        "#### TEST DATA BURUK DENGAN BAHASA INDONESIA"
      ],
      "metadata": {
        "id": "n34DwMNixUEO"
      }
    },
    {
      "cell_type": "code",
      "source": [
        "text = \"Menurut saya, mentor menjelaskan materi sangat buruk\"\n",
        "\n",
        "# Terjemahkan teks ke bahasa Inggris\n",
        "translated_text = translator.translate(text)\n",
        "\n",
        "# Tokenisasi teks terjemahan\n",
        "encoded_input = tokenizer(translated_text, truncation=True, padding=True, return_tensors='pt')\n",
        "\n",
        "# Melakukan inferensi menggunakan model\n",
        "output = model(**encoded_input)\n",
        "\n",
        "# Mengambil prediksi sentimen\n",
        "sentiment_pred = output.logits.argmax().item()\n",
        "\n",
        "# Menampilkan hasil prediksi\n",
        "sentiment_labels = ['Negative', 'Positive']\n",
        "predicted_sentiment = sentiment_labels[sentiment_pred]\n",
        "print(\"Sentimen Prediksi:\", predicted_sentiment)"
      ],
      "metadata": {
        "id": "PNHJI88eLwcx",
        "colab": {
          "base_uri": "https://localhost:8080/"
        },
        "outputId": "95ceb2c0-8a28-449c-825e-fce608f6eb96"
      },
      "execution_count": 11,
      "outputs": [
        {
          "output_type": "stream",
          "name": "stdout",
          "text": [
            "Sentimen Prediksi: Negative\n"
          ]
        }
      ]
    },
    {
      "cell_type": "markdown",
      "source": [
        "#### TEST DATA BAIK KE-2 DENGAN BAHASA INDONESIA"
      ],
      "metadata": {
        "id": "CNLu1GD8xWy5"
      }
    },
    {
      "cell_type": "code",
      "source": [
        "# Daftar teks yang ingin diuji\n",
        "texts = [\"Anda memiliki pengetahuan yang luas dan mampu menjelaskannya dengan sangat jelas. Saya sangat menghargai keahlian Anda dalam membagikan informasi.\",\n",
        "\"Anda sangat perhatian dan responsif terhadap pertanyaan dan kebutuhan kami. Terima kasih karena telah dengan sabar membantu kami memahami materi.\",\n",
        "\"Saya merasa sangat terinspirasi oleh contoh-contoh nyata yang Anda berikan. Hal itu membantu saya mengaitkan teori dengan praktik sehari-hari.\",\n",
        "\"Anda mendorong kami untuk terus bersemangat dalam belajar dan mencapai yang terbaik. Saya merasa termotivasi dan termotivasi oleh dorongan Anda.\",\n",
        "\"Umpan balik konstruktif yang Anda berikan telah membantu saya memperbaiki keterampilan saya secara signifikan. Saya sangat berterima kasih atas saran dan panduan Anda.\"]\n",
        "\n",
        "# Hasil prediksi sentimen untuk setiap teks\n",
        "results = []\n",
        "\n",
        "for text in texts:\n",
        "    # Terjemahkan teks ke bahasa Inggris\n",
        "    translated_text = translator.translate(text)\n",
        "\n",
        "    # Tokenisasi teks terjemahan\n",
        "    encoded_input = tokenizer(translated_text, truncation=True, padding=True, return_tensors='pt')\n",
        "\n",
        "    # Melakukan inferensi menggunakan model\n",
        "    output = model(**encoded_input)\n",
        "\n",
        "    # Mengambil prediksi sentimen\n",
        "    sentiment_pred = output.logits.argmax().item()\n",
        "\n",
        "    # Menampilkan hasil prediksi\n",
        "    sentiment_labels = ['Negative', 'Positive']\n",
        "    predicted_sentiment = sentiment_labels[sentiment_pred]\n",
        "\n",
        "    # Menambahkan hasil prediksi ke dalam daftar hasil\n",
        "    results.append(predicted_sentiment)\n",
        "\n",
        "# Menampilkan hasil prediksi untuk setiap teks\n",
        "for i, text in enumerate(texts):\n",
        "    print(\"Teks:\", text)\n",
        "    print(\"Sentimen Prediksi:\", results[i])\n",
        "    print()"
      ],
      "metadata": {
        "colab": {
          "base_uri": "https://localhost:8080/"
        },
        "id": "-G2uCJEJvKNQ",
        "outputId": "2f580931-adb7-47e2-e625-bdb145d020ce"
      },
      "execution_count": 12,
      "outputs": [
        {
          "output_type": "stream",
          "name": "stdout",
          "text": [
            "Teks: Anda memiliki pengetahuan yang luas dan mampu menjelaskannya dengan sangat jelas. Saya sangat menghargai keahlian Anda dalam membagikan informasi.\n",
            "Sentimen Prediksi: Positive\n",
            "\n",
            "Teks: Anda sangat perhatian dan responsif terhadap pertanyaan dan kebutuhan kami. Terima kasih karena telah dengan sabar membantu kami memahami materi.\n",
            "Sentimen Prediksi: Positive\n",
            "\n",
            "Teks: Saya merasa sangat terinspirasi oleh contoh-contoh nyata yang Anda berikan. Hal itu membantu saya mengaitkan teori dengan praktik sehari-hari.\n",
            "Sentimen Prediksi: Positive\n",
            "\n",
            "Teks: Anda mendorong kami untuk terus bersemangat dalam belajar dan mencapai yang terbaik. Saya merasa termotivasi dan termotivasi oleh dorongan Anda.\n",
            "Sentimen Prediksi: Positive\n",
            "\n",
            "Teks: Umpan balik konstruktif yang Anda berikan telah membantu saya memperbaiki keterampilan saya secara signifikan. Saya sangat berterima kasih atas saran dan panduan Anda.\n",
            "Sentimen Prediksi: Positive\n",
            "\n"
          ]
        }
      ]
    },
    {
      "cell_type": "markdown",
      "source": [
        "#### TEST DATA BURUK KE-2 DENGAN BAHASA INDONESIA"
      ],
      "metadata": {
        "id": "cIWdGMXnxbAZ"
      }
    },
    {
      "cell_type": "code",
      "source": [
        "# Daftar teks yang ingin diuji\n",
        "texts = [\"Anda sering terlambat dalam sesi mentoring tanpa pemberitahuan sebelumnya, hal ini tidak profesional dan mengganggu jadwal kami.\",\n",
        "\"Penjelasan Anda kurang jelas dan terstruktur, membuat sulit bagi kami untuk memahami materi yang diajarkan.\",\n",
        "\"Anda tidak merespons dengan cepat terhadap pertanyaan dan masalah yang kami hadapi, membuat kami merasa diabaikan.\",\n",
        "\"Anda terlalu dominan dalam percakapan dan sering mengabaikan ide dan pendapat kami, membuat kami merasa tidak dihargai.\"]\n",
        "\n",
        "# Hasil prediksi sentimen untuk setiap teks\n",
        "results = []\n",
        "\n",
        "for text in texts:\n",
        "    # Terjemahkan teks ke bahasa Inggris\n",
        "    translated_text = translator.translate(text)\n",
        "\n",
        "    # Tokenisasi teks terjemahan\n",
        "    encoded_input = tokenizer(translated_text, truncation=True, padding=True, return_tensors='pt')\n",
        "\n",
        "    # Melakukan inferensi menggunakan model\n",
        "    output = model(**encoded_input)\n",
        "\n",
        "    # Mengambil prediksi sentimen\n",
        "    sentiment_pred = output.logits.argmax().item()\n",
        "\n",
        "    # Menampilkan hasil prediksi\n",
        "    sentiment_labels = ['Negative', 'Positive']\n",
        "    predicted_sentiment = sentiment_labels[sentiment_pred]\n",
        "\n",
        "    # Menambahkan hasil prediksi ke dalam daftar hasil\n",
        "    results.append(predicted_sentiment)\n",
        "\n",
        "# Menampilkan hasil prediksi untuk setiap teks\n",
        "for i, text in enumerate(texts):\n",
        "    print(\"Teks:\", text)\n",
        "    print(\"Sentimen Prediksi:\", results[i])\n",
        "    print()"
      ],
      "metadata": {
        "colab": {
          "base_uri": "https://localhost:8080/"
        },
        "id": "VZFS-trOv-Co",
        "outputId": "4e39f4c5-f74e-4e54-fac0-0b3325add4da"
      },
      "execution_count": 13,
      "outputs": [
        {
          "output_type": "stream",
          "name": "stdout",
          "text": [
            "Teks: Anda sering terlambat dalam sesi mentoring tanpa pemberitahuan sebelumnya, hal ini tidak profesional dan mengganggu jadwal kami.\n",
            "Sentimen Prediksi: Negative\n",
            "\n",
            "Teks: Penjelasan Anda kurang jelas dan terstruktur, membuat sulit bagi kami untuk memahami materi yang diajarkan.\n",
            "Sentimen Prediksi: Negative\n",
            "\n",
            "Teks: Anda tidak merespons dengan cepat terhadap pertanyaan dan masalah yang kami hadapi, membuat kami merasa diabaikan.\n",
            "Sentimen Prediksi: Negative\n",
            "\n",
            "Teks: Anda terlalu dominan dalam percakapan dan sering mengabaikan ide dan pendapat kami, membuat kami merasa tidak dihargai.\n",
            "Sentimen Prediksi: Positive\n",
            "\n"
          ]
        }
      ]
    },
    {
      "cell_type": "markdown",
      "source": [
        "# TEST DATA DENGAN BAHASA INGGRIS"
      ],
      "metadata": {
        "id": "iFxWIToNxq9i"
      }
    },
    {
      "cell_type": "markdown",
      "source": [
        "#### TEST DATA BAIK DENGAN BAHASA INGGRIS"
      ],
      "metadata": {
        "id": "FaSzC1XlxuJG"
      }
    },
    {
      "cell_type": "code",
      "source": [
        "# Daftar teks yang ingin diuji\n",
        "texts = [\"Thank you for being an amazing mentor. Your guidance and support have truly helped me grow both personally and professionally.\",\n",
        "\"I appreciate your patience and willingness to answer all my questions. You have made the learning process much easier for me.\",\n",
        "\"I'm grateful for your constructive feedback. It has helped me identify my strengths and areas for improvement.\",\n",
        "\"You have a remarkable ability to explain complex concepts in a simple and understandable manner. It has made a significant difference in my understanding.\",\n",
        "\"Your passion for your work is contagious. It has inspired me to pursue my goals with even more enthusiasm.\"]\n",
        "\n",
        "# Hasil prediksi sentimen untuk setiap teks\n",
        "results = []\n",
        "\n",
        "for text in texts:\n",
        "    # Terjemahkan teks ke bahasa Inggris\n",
        "    translated_text = translator.translate(text)\n",
        "\n",
        "    # Tokenisasi teks terjemahan\n",
        "    encoded_input = tokenizer(translated_text, truncation=True, padding=True, return_tensors='pt')\n",
        "\n",
        "    # Melakukan inferensi menggunakan model\n",
        "    output = model(**encoded_input)\n",
        "\n",
        "    # Mengambil prediksi sentimen\n",
        "    sentiment_pred = output.logits.argmax().item()\n",
        "\n",
        "    # Menampilkan hasil prediksi\n",
        "    sentiment_labels = ['Negative', 'Positive']\n",
        "    predicted_sentiment = sentiment_labels[sentiment_pred]\n",
        "\n",
        "    # Menambahkan hasil prediksi ke dalam daftar hasil\n",
        "    results.append(predicted_sentiment)\n",
        "\n",
        "# Menampilkan hasil prediksi untuk setiap teks\n",
        "for i, text in enumerate(texts):\n",
        "    print(\"Teks:\", text)\n",
        "    print(\"Sentimen Prediksi:\", results[i])\n",
        "    print()"
      ],
      "metadata": {
        "colab": {
          "base_uri": "https://localhost:8080/"
        },
        "id": "XHZoeVUHwWA_",
        "outputId": "32b9c5e4-0cbe-4662-fed0-c67e15c0d4e8"
      },
      "execution_count": 14,
      "outputs": [
        {
          "output_type": "stream",
          "name": "stdout",
          "text": [
            "Teks: Thank you for being an amazing mentor. Your guidance and support have truly helped me grow both personally and professionally.\n",
            "Sentimen Prediksi: Positive\n",
            "\n",
            "Teks: I appreciate your patience and willingness to answer all my questions. You have made the learning process much easier for me.\n",
            "Sentimen Prediksi: Positive\n",
            "\n",
            "Teks: I'm grateful for your constructive feedback. It has helped me identify my strengths and areas for improvement.\n",
            "Sentimen Prediksi: Positive\n",
            "\n",
            "Teks: You have a remarkable ability to explain complex concepts in a simple and understandable manner. It has made a significant difference in my understanding.\n",
            "Sentimen Prediksi: Positive\n",
            "\n",
            "Teks: Your passion for your work is contagious. It has inspired me to pursue my goals with even more enthusiasm.\n",
            "Sentimen Prediksi: Positive\n",
            "\n"
          ]
        }
      ]
    },
    {
      "cell_type": "markdown",
      "source": [
        "#### TEST DATA BURUK DENGAN BAHASA INGGRIS"
      ],
      "metadata": {
        "id": "oLPcM5xBx_ti"
      }
    },
    {
      "cell_type": "code",
      "source": [
        "# Daftar teks yang ingin diuji\n",
        "texts = [\"I feel like you don't really listen to my concerns or take them seriously. It's frustrating and makes me question the value of our mentoring relationship.\",\n",
        "\"I find it difficult to reach you when I need assistance. It feels like you're not fully committed to our mentoring agreement.\",\n",
        "\"Your communication style is condescending and demotivating. It makes me hesitant to ask questions or seek your guidance.\",\n",
        "\"You don't seem to have a clear plan or structure for our mentoring sessions. It feels like we're just going through the motions without any real progress.\"]\n",
        "\n",
        "# Hasil prediksi sentimen untuk setiap teks\n",
        "results = []\n",
        "\n",
        "for text in texts:\n",
        "    # Terjemahkan teks ke bahasa Inggris\n",
        "    translated_text = translator.translate(text)\n",
        "\n",
        "    # Tokenisasi teks terjemahan\n",
        "    encoded_input = tokenizer(translated_text, truncation=True, padding=True, return_tensors='pt')\n",
        "\n",
        "    # Melakukan inferensi menggunakan model\n",
        "    output = model(**encoded_input)\n",
        "\n",
        "    # Mengambil prediksi sentimen\n",
        "    sentiment_pred = output.logits.argmax().item()\n",
        "\n",
        "    # Menampilkan hasil prediksi\n",
        "    sentiment_labels = ['Negative', 'Positive']\n",
        "    predicted_sentiment = sentiment_labels[sentiment_pred]\n",
        "\n",
        "    # Menambahkan hasil prediksi ke dalam daftar hasil\n",
        "    results.append(predicted_sentiment)\n",
        "\n",
        "# Menampilkan hasil prediksi untuk setiap teks\n",
        "for i, text in enumerate(texts):\n",
        "    print(\"Teks:\", text)\n",
        "    print(\"Sentimen Prediksi:\", results[i])\n",
        "    print()"
      ],
      "metadata": {
        "colab": {
          "base_uri": "https://localhost:8080/"
        },
        "id": "831vbEzWx6oB",
        "outputId": "b7453a04-ebbf-4a69-c47b-99c384d441bd"
      },
      "execution_count": 15,
      "outputs": [
        {
          "output_type": "stream",
          "name": "stdout",
          "text": [
            "Teks: I feel like you don't really listen to my concerns or take them seriously. It's frustrating and makes me question the value of our mentoring relationship.\n",
            "Sentimen Prediksi: Negative\n",
            "\n",
            "Teks: I find it difficult to reach you when I need assistance. It feels like you're not fully committed to our mentoring agreement.\n",
            "Sentimen Prediksi: Positive\n",
            "\n",
            "Teks: Your communication style is condescending and demotivating. It makes me hesitant to ask questions or seek your guidance.\n",
            "Sentimen Prediksi: Negative\n",
            "\n",
            "Teks: You don't seem to have a clear plan or structure for our mentoring sessions. It feels like we're just going through the motions without any real progress.\n",
            "Sentimen Prediksi: Negative\n",
            "\n"
          ]
        }
      ]
    },
    {
      "cell_type": "code",
      "source": [],
      "metadata": {
        "id": "KGwKZwaDyGmJ"
      },
      "execution_count": 15,
      "outputs": []
    }
  ]
}