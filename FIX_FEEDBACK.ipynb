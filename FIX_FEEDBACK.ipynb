{
  "nbformat": 4,
  "nbformat_minor": 0,
  "metadata": {
    "colab": {
      "provenance": [],
      "authorship_tag": "ABX9TyPtH8RQqXwtDKsnl//EnqTy",
      "include_colab_link": true
    },
    "kernelspec": {
      "name": "python3",
      "display_name": "Python 3"
    },
    "language_info": {
      "name": "python"
    }
  },
  "cells": [
    {
      "cell_type": "markdown",
      "metadata": {
        "id": "view-in-github",
        "colab_type": "text"
      },
      "source": [
        "<a href=\"https://colab.research.google.com/github/abdinegara783/ML-Mentoring-Platform-Dicoding/blob/main/FIX_FEEDBACK.ipynb\" target=\"_parent\"><img src=\"https://colab.research.google.com/assets/colab-badge.svg\" alt=\"Open In Colab\"/></a>"
      ]
    },
    {
      "cell_type": "code",
      "execution_count": 1,
      "metadata": {
        "colab": {
          "base_uri": "https://localhost:8080/"
        },
        "id": "q514BCp3F_S1",
        "outputId": "c2abf63b-adde-4a33-9f49-972e653b1b82"
      },
      "outputs": [
        {
          "output_type": "stream",
          "name": "stdout",
          "text": [
            "Looking in indexes: https://pypi.org/simple, https://us-python.pkg.dev/colab-wheels/public/simple/\n",
            "Requirement already satisfied: transformers in /usr/local/lib/python3.10/dist-packages (4.29.2)\n",
            "Requirement already satisfied: filelock in /usr/local/lib/python3.10/dist-packages (from transformers) (3.12.0)\n",
            "Requirement already satisfied: huggingface-hub<1.0,>=0.14.1 in /usr/local/lib/python3.10/dist-packages (from transformers) (0.15.1)\n",
            "Requirement already satisfied: numpy>=1.17 in /usr/local/lib/python3.10/dist-packages (from transformers) (1.22.4)\n",
            "Requirement already satisfied: packaging>=20.0 in /usr/local/lib/python3.10/dist-packages (from transformers) (23.1)\n",
            "Requirement already satisfied: pyyaml>=5.1 in /usr/local/lib/python3.10/dist-packages (from transformers) (6.0)\n",
            "Requirement already satisfied: regex!=2019.12.17 in /usr/local/lib/python3.10/dist-packages (from transformers) (2022.10.31)\n",
            "Requirement already satisfied: requests in /usr/local/lib/python3.10/dist-packages (from transformers) (2.27.1)\n",
            "Requirement already satisfied: tokenizers!=0.11.3,<0.14,>=0.11.1 in /usr/local/lib/python3.10/dist-packages (from transformers) (0.13.3)\n",
            "Requirement already satisfied: tqdm>=4.27 in /usr/local/lib/python3.10/dist-packages (from transformers) (4.65.0)\n",
            "Requirement already satisfied: fsspec in /usr/local/lib/python3.10/dist-packages (from huggingface-hub<1.0,>=0.14.1->transformers) (2023.4.0)\n",
            "Requirement already satisfied: typing-extensions>=3.7.4.3 in /usr/local/lib/python3.10/dist-packages (from huggingface-hub<1.0,>=0.14.1->transformers) (4.5.0)\n",
            "Requirement already satisfied: urllib3<1.27,>=1.21.1 in /usr/local/lib/python3.10/dist-packages (from requests->transformers) (1.26.15)\n",
            "Requirement already satisfied: certifi>=2017.4.17 in /usr/local/lib/python3.10/dist-packages (from requests->transformers) (2022.12.7)\n",
            "Requirement already satisfied: charset-normalizer~=2.0.0 in /usr/local/lib/python3.10/dist-packages (from requests->transformers) (2.0.12)\n",
            "Requirement already satisfied: idna<4,>=2.5 in /usr/local/lib/python3.10/dist-packages (from requests->transformers) (2.10)\n"
          ]
        }
      ],
      "source": [
        "pip install transformers"
      ]
    },
    {
      "cell_type": "code",
      "source": [
        "from transformers import AutoTokenizer, AutoModelForSequenceClassification\n",
        "\n",
        "tokenizer = AutoTokenizer.from_pretrained(\"Kaludi/Reviews-Sentiment-Analysis\")\n",
        "\n",
        "model1 = AutoModelForSequenceClassification.from_pretrained(\"Kaludi/Reviews-Sentiment-Analysis\")"
      ],
      "metadata": {
        "id": "FKFuUOQYIo04"
      },
      "execution_count": 13,
      "outputs": []
    },
    {
      "cell_type": "code",
      "source": [
        "text = \"kamu tidak bagus\"\n",
        "\n",
        "# Tokenisasi teks\n",
        "encoded_input = tokenizer(text, truncation=True, padding=True, return_tensors='pt')\n",
        "\n",
        "# Melakukan inferensi menggunakan model\n",
        "output = model1(**encoded_input)\n",
        "\n",
        "# Mengambil prediksi sentimen\n",
        "sentiment_pred = output.logits.argmax().item()\n",
        "\n",
        "# Menampilkan hasil prediksi\n",
        "sentiment_labels = ['Negative', 'Positive']\n",
        "predicted_sentiment = sentiment_labels[sentiment_pred]\n",
        "print(\"Sentimen Prediksi:\", predicted_sentiment)\n"
      ],
      "metadata": {
        "colab": {
          "base_uri": "https://localhost:8080/"
        },
        "id": "nFRc1WUOJI34",
        "outputId": "16ba6f30-578a-4e59-fa28-2e838d6572bd"
      },
      "execution_count": 15,
      "outputs": [
        {
          "output_type": "stream",
          "name": "stdout",
          "text": [
            "Sentimen Prediksi: Positive\n"
          ]
        }
      ]
    },
    {
      "cell_type": "code",
      "source": [
        "pip install translate"
      ],
      "metadata": {
        "colab": {
          "base_uri": "https://localhost:8080/"
        },
        "id": "JBEHjmetLfM8",
        "outputId": "ba685f01-6b3e-4c5c-9127-4d87f65b3759"
      },
      "execution_count": 5,
      "outputs": [
        {
          "output_type": "stream",
          "name": "stdout",
          "text": [
            "Looking in indexes: https://pypi.org/simple, https://us-python.pkg.dev/colab-wheels/public/simple/\n",
            "Collecting translate\n",
            "  Downloading translate-3.6.1-py2.py3-none-any.whl (12 kB)\n",
            "Requirement already satisfied: click in /usr/local/lib/python3.10/dist-packages (from translate) (8.1.3)\n",
            "Requirement already satisfied: lxml in /usr/local/lib/python3.10/dist-packages (from translate) (4.9.2)\n",
            "Requirement already satisfied: requests in /usr/local/lib/python3.10/dist-packages (from translate) (2.27.1)\n",
            "Collecting libretranslatepy==2.1.1 (from translate)\n",
            "  Downloading libretranslatepy-2.1.1-py3-none-any.whl (3.2 kB)\n",
            "Requirement already satisfied: urllib3<1.27,>=1.21.1 in /usr/local/lib/python3.10/dist-packages (from requests->translate) (1.26.15)\n",
            "Requirement already satisfied: certifi>=2017.4.17 in /usr/local/lib/python3.10/dist-packages (from requests->translate) (2022.12.7)\n",
            "Requirement already satisfied: charset-normalizer~=2.0.0 in /usr/local/lib/python3.10/dist-packages (from requests->translate) (2.0.12)\n",
            "Requirement already satisfied: idna<4,>=2.5 in /usr/local/lib/python3.10/dist-packages (from requests->translate) (2.10)\n",
            "Installing collected packages: libretranslatepy, translate\n",
            "Successfully installed libretranslatepy-2.1.1 translate-3.6.1\n"
          ]
        }
      ]
    },
    {
      "cell_type": "code",
      "source": [
        "from transformers import AutoTokenizer, AutoModelForSequenceClassification\n",
        "from translate import Translator\n",
        "\n",
        "tokenizer = AutoTokenizer.from_pretrained(\"Kaludi/Reviews-Sentiment-Analysis\")\n",
        "model = AutoModelForSequenceClassification.from_pretrained(\"Kaludi/Reviews-Sentiment-Analysis\")\n",
        "translator = Translator(to_lang=\"en\", from_lang=\"id\")\n",
        "\n",
        "text = \"kamu tidak bagus\"\n",
        "\n",
        "# Terjemahkan teks ke bahasa Inggris\n",
        "translated_text = translator.translate(text)\n",
        "\n",
        "# Tokenisasi teks terjemahan\n",
        "encoded_input = tokenizer(translated_text, truncation=True, padding=True, return_tensors='pt')\n",
        "\n",
        "# Melakukan inferensi menggunakan model\n",
        "output = model(**encoded_input)\n",
        "\n",
        "# Mengambil prediksi sentimen\n",
        "sentiment_pred = output.logits.argmax().item()\n",
        "\n",
        "# Menampilkan hasil prediksi\n",
        "sentiment_labels = ['Negative', 'Positive']\n",
        "predicted_sentiment = sentiment_labels[sentiment_pred]\n",
        "print(\"Sentimen Prediksi:\", predicted_sentiment)\n"
      ],
      "metadata": {
        "colab": {
          "base_uri": "https://localhost:8080/"
        },
        "id": "Hc-_XWRNJJ5V",
        "outputId": "00d40d25-10fd-486c-9ecd-e9e1d38575e3"
      },
      "execution_count": 6,
      "outputs": [
        {
          "output_type": "stream",
          "name": "stderr",
          "text": [
            "Asking to truncate to max_length but no maximum length is provided and the model has no predefined maximum length. Default to no truncation.\n"
          ]
        },
        {
          "output_type": "stream",
          "name": "stdout",
          "text": [
            "Sentimen Prediksi: Negative\n"
          ]
        }
      ]
    },
    {
      "cell_type": "code",
      "source": [
        "text = \"kamu bekerja sangat baik\"\n",
        "\n",
        "# Terjemahkan teks ke bahasa Inggris\n",
        "translated_text = translator.translate(text)\n",
        "\n",
        "# Tokenisasi teks terjemahan\n",
        "encoded_input = tokenizer(translated_text, truncation=True, padding=True, return_tensors='pt')\n",
        "\n",
        "# Melakukan inferensi menggunakan model\n",
        "output = model(**encoded_input)\n",
        "\n",
        "# Mengambil prediksi sentimen\n",
        "sentiment_pred = output.logits.argmax().item()\n",
        "\n",
        "# Menampilkan hasil prediksi\n",
        "sentiment_labels = ['Negative', 'Positive']\n",
        "predicted_sentiment = sentiment_labels[sentiment_pred]\n",
        "print(\"Sentimen Prediksi:\", predicted_sentiment)\n"
      ],
      "metadata": {
        "colab": {
          "base_uri": "https://localhost:8080/"
        },
        "id": "cRXdsR35LsxC",
        "outputId": "5feb2e3a-1fc6-4c1b-c941-544acdd20b0a"
      },
      "execution_count": 7,
      "outputs": [
        {
          "output_type": "stream",
          "name": "stdout",
          "text": [
            "Sentimen Prediksi: Positive\n"
          ]
        }
      ]
    },
    {
      "cell_type": "code",
      "source": [],
      "metadata": {
        "id": "PNHJI88eLwcx"
      },
      "execution_count": null,
      "outputs": []
    }
  ]
}