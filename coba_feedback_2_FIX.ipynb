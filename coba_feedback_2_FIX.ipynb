{
  "nbformat": 4,
  "nbformat_minor": 0,
  "metadata": {
    "colab": {
      "provenance": [],
      "authorship_tag": "ABX9TyMmmEroVjVo7aCe5tSwcnuZ",
      "include_colab_link": true
    },
    "kernelspec": {
      "name": "python3",
      "display_name": "Python 3"
    },
    "language_info": {
      "name": "python"
    }
  },
  "cells": [
    {
      "cell_type": "markdown",
      "metadata": {
        "id": "view-in-github",
        "colab_type": "text"
      },
      "source": [
        "<a href=\"https://colab.research.google.com/github/abdinegara783/ML-Mentoring-Platform-Dicoding/blob/main/coba_feedback_2_FIX.ipynb\" target=\"_parent\"><img src=\"https://colab.research.google.com/assets/colab-badge.svg\" alt=\"Open In Colab\"/></a>"
      ]
    },
    {
      "cell_type": "code",
      "execution_count": null,
      "metadata": {
        "colab": {
          "base_uri": "https://localhost:8080/",
          "height": 206
        },
        "id": "xVoASbOT_CaG",
        "outputId": "54587c08-b581-4f1a-a326-86d06d1a45c0"
      },
      "outputs": [
        {
          "output_type": "execute_result",
          "data": {
            "text/plain": [
              "   teaching                                         teaching.1 Rating\n",
              "0         0  teacher are punctual but they should also give...    Bad\n",
              "1         1                                              Good    Good\n",
              "2         1  Excellent lectures are delivered by teachers a...   Good\n",
              "3         1                                               Good   Good\n",
              "4         1  teachers give us all the information required ...   Good"
            ],
            "text/html": [
              "\n",
              "  <div id=\"df-19189dfa-3578-4e0b-bd95-159a3c6ba93c\">\n",
              "    <div class=\"colab-df-container\">\n",
              "      <div>\n",
              "<style scoped>\n",
              "    .dataframe tbody tr th:only-of-type {\n",
              "        vertical-align: middle;\n",
              "    }\n",
              "\n",
              "    .dataframe tbody tr th {\n",
              "        vertical-align: top;\n",
              "    }\n",
              "\n",
              "    .dataframe thead th {\n",
              "        text-align: right;\n",
              "    }\n",
              "</style>\n",
              "<table border=\"1\" class=\"dataframe\">\n",
              "  <thead>\n",
              "    <tr style=\"text-align: right;\">\n",
              "      <th></th>\n",
              "      <th>teaching</th>\n",
              "      <th>teaching.1</th>\n",
              "      <th>Rating</th>\n",
              "    </tr>\n",
              "  </thead>\n",
              "  <tbody>\n",
              "    <tr>\n",
              "      <th>0</th>\n",
              "      <td>0</td>\n",
              "      <td>teacher are punctual but they should also give...</td>\n",
              "      <td>Bad</td>\n",
              "    </tr>\n",
              "    <tr>\n",
              "      <th>1</th>\n",
              "      <td>1</td>\n",
              "      <td>Good</td>\n",
              "      <td>Good</td>\n",
              "    </tr>\n",
              "    <tr>\n",
              "      <th>2</th>\n",
              "      <td>1</td>\n",
              "      <td>Excellent lectures are delivered by teachers a...</td>\n",
              "      <td>Good</td>\n",
              "    </tr>\n",
              "    <tr>\n",
              "      <th>3</th>\n",
              "      <td>1</td>\n",
              "      <td>Good</td>\n",
              "      <td>Good</td>\n",
              "    </tr>\n",
              "    <tr>\n",
              "      <th>4</th>\n",
              "      <td>1</td>\n",
              "      <td>teachers give us all the information required ...</td>\n",
              "      <td>Good</td>\n",
              "    </tr>\n",
              "  </tbody>\n",
              "</table>\n",
              "</div>\n",
              "      <button class=\"colab-df-convert\" onclick=\"convertToInteractive('df-19189dfa-3578-4e0b-bd95-159a3c6ba93c')\"\n",
              "              title=\"Convert this dataframe to an interactive table.\"\n",
              "              style=\"display:none;\">\n",
              "        \n",
              "  <svg xmlns=\"http://www.w3.org/2000/svg\" height=\"24px\"viewBox=\"0 0 24 24\"\n",
              "       width=\"24px\">\n",
              "    <path d=\"M0 0h24v24H0V0z\" fill=\"none\"/>\n",
              "    <path d=\"M18.56 5.44l.94 2.06.94-2.06 2.06-.94-2.06-.94-.94-2.06-.94 2.06-2.06.94zm-11 1L8.5 8.5l.94-2.06 2.06-.94-2.06-.94L8.5 2.5l-.94 2.06-2.06.94zm10 10l.94 2.06.94-2.06 2.06-.94-2.06-.94-.94-2.06-.94 2.06-2.06.94z\"/><path d=\"M17.41 7.96l-1.37-1.37c-.4-.4-.92-.59-1.43-.59-.52 0-1.04.2-1.43.59L10.3 9.45l-7.72 7.72c-.78.78-.78 2.05 0 2.83L4 21.41c.39.39.9.59 1.41.59.51 0 1.02-.2 1.41-.59l7.78-7.78 2.81-2.81c.8-.78.8-2.07 0-2.86zM5.41 20L4 18.59l7.72-7.72 1.47 1.35L5.41 20z\"/>\n",
              "  </svg>\n",
              "      </button>\n",
              "      \n",
              "  <style>\n",
              "    .colab-df-container {\n",
              "      display:flex;\n",
              "      flex-wrap:wrap;\n",
              "      gap: 12px;\n",
              "    }\n",
              "\n",
              "    .colab-df-convert {\n",
              "      background-color: #E8F0FE;\n",
              "      border: none;\n",
              "      border-radius: 50%;\n",
              "      cursor: pointer;\n",
              "      display: none;\n",
              "      fill: #1967D2;\n",
              "      height: 32px;\n",
              "      padding: 0 0 0 0;\n",
              "      width: 32px;\n",
              "    }\n",
              "\n",
              "    .colab-df-convert:hover {\n",
              "      background-color: #E2EBFA;\n",
              "      box-shadow: 0px 1px 2px rgba(60, 64, 67, 0.3), 0px 1px 3px 1px rgba(60, 64, 67, 0.15);\n",
              "      fill: #174EA6;\n",
              "    }\n",
              "\n",
              "    [theme=dark] .colab-df-convert {\n",
              "      background-color: #3B4455;\n",
              "      fill: #D2E3FC;\n",
              "    }\n",
              "\n",
              "    [theme=dark] .colab-df-convert:hover {\n",
              "      background-color: #434B5C;\n",
              "      box-shadow: 0px 1px 3px 1px rgba(0, 0, 0, 0.15);\n",
              "      filter: drop-shadow(0px 1px 2px rgba(0, 0, 0, 0.3));\n",
              "      fill: #FFFFFF;\n",
              "    }\n",
              "  </style>\n",
              "\n",
              "      <script>\n",
              "        const buttonEl =\n",
              "          document.querySelector('#df-19189dfa-3578-4e0b-bd95-159a3c6ba93c button.colab-df-convert');\n",
              "        buttonEl.style.display =\n",
              "          google.colab.kernel.accessAllowed ? 'block' : 'none';\n",
              "\n",
              "        async function convertToInteractive(key) {\n",
              "          const element = document.querySelector('#df-19189dfa-3578-4e0b-bd95-159a3c6ba93c');\n",
              "          const dataTable =\n",
              "            await google.colab.kernel.invokeFunction('convertToInteractive',\n",
              "                                                     [key], {});\n",
              "          if (!dataTable) return;\n",
              "\n",
              "          const docLinkHtml = 'Like what you see? Visit the ' +\n",
              "            '<a target=\"_blank\" href=https://colab.research.google.com/notebooks/data_table.ipynb>data table notebook</a>'\n",
              "            + ' to learn more about interactive tables.';\n",
              "          element.innerHTML = '';\n",
              "          dataTable['output_type'] = 'display_data';\n",
              "          await google.colab.output.renderOutput(dataTable, element);\n",
              "          const docLink = document.createElement('div');\n",
              "          docLink.innerHTML = docLinkHtml;\n",
              "          element.appendChild(docLink);\n",
              "        }\n",
              "      </script>\n",
              "    </div>\n",
              "  </div>\n",
              "  "
            ]
          },
          "metadata": {},
          "execution_count": 48
        }
      ],
      "source": [
        "import pandas as pd\n",
        "import numpy as np\n",
        "import matplotlib.pyplot as plt\n",
        "%matplotlib inline\n",
        "df = pd.read_csv('new_feedback.csv')\n",
        "df.head()"
      ]
    },
    {
      "cell_type": "code",
      "source": [
        "# Membuat kolom baru 'Rating' dengan nilai awal kosong\n",
        "df['positively_rated'] = \"\"\n",
        "\n",
        "# Fungsi untuk menentukan nilai Rating berdasarkan nilai feedback\n",
        "def get_path(feedback):\n",
        "    if feedback == 1:\n",
        "        return 1\n",
        "    else:\n",
        "        return 0\n",
        "\n",
        "\n",
        "# Mengisi nilai pada kolom 'Raing' berdasarkan nilai pada kolom 'teaching'\n",
        "df['positively_rated'] = df['teaching'].apply(get_path)\n",
        "df.head()"
      ],
      "metadata": {
        "colab": {
          "base_uri": "https://localhost:8080/",
          "height": 206
        },
        "id": "YMhFLhsFCDj4",
        "outputId": "0788d000-e006-43b1-d872-004275b72970"
      },
      "execution_count": null,
      "outputs": [
        {
          "output_type": "execute_result",
          "data": {
            "text/plain": [
              "   teaching                                         teaching.1 Rating  \\\n",
              "0         0  teacher are punctual but they should also give...    Bad   \n",
              "1         1                                              Good    Good   \n",
              "2         1  Excellent lectures are delivered by teachers a...   Good   \n",
              "3         1                                               Good   Good   \n",
              "4         1  teachers give us all the information required ...   Good   \n",
              "\n",
              "   positively_rated  \n",
              "0                 0  \n",
              "1                 1  \n",
              "2                 1  \n",
              "3                 1  \n",
              "4                 1  "
            ],
            "text/html": [
              "\n",
              "  <div id=\"df-6e2114f5-05cd-462b-a6c5-192049eac771\">\n",
              "    <div class=\"colab-df-container\">\n",
              "      <div>\n",
              "<style scoped>\n",
              "    .dataframe tbody tr th:only-of-type {\n",
              "        vertical-align: middle;\n",
              "    }\n",
              "\n",
              "    .dataframe tbody tr th {\n",
              "        vertical-align: top;\n",
              "    }\n",
              "\n",
              "    .dataframe thead th {\n",
              "        text-align: right;\n",
              "    }\n",
              "</style>\n",
              "<table border=\"1\" class=\"dataframe\">\n",
              "  <thead>\n",
              "    <tr style=\"text-align: right;\">\n",
              "      <th></th>\n",
              "      <th>teaching</th>\n",
              "      <th>teaching.1</th>\n",
              "      <th>Rating</th>\n",
              "      <th>positively_rated</th>\n",
              "    </tr>\n",
              "  </thead>\n",
              "  <tbody>\n",
              "    <tr>\n",
              "      <th>0</th>\n",
              "      <td>0</td>\n",
              "      <td>teacher are punctual but they should also give...</td>\n",
              "      <td>Bad</td>\n",
              "      <td>0</td>\n",
              "    </tr>\n",
              "    <tr>\n",
              "      <th>1</th>\n",
              "      <td>1</td>\n",
              "      <td>Good</td>\n",
              "      <td>Good</td>\n",
              "      <td>1</td>\n",
              "    </tr>\n",
              "    <tr>\n",
              "      <th>2</th>\n",
              "      <td>1</td>\n",
              "      <td>Excellent lectures are delivered by teachers a...</td>\n",
              "      <td>Good</td>\n",
              "      <td>1</td>\n",
              "    </tr>\n",
              "    <tr>\n",
              "      <th>3</th>\n",
              "      <td>1</td>\n",
              "      <td>Good</td>\n",
              "      <td>Good</td>\n",
              "      <td>1</td>\n",
              "    </tr>\n",
              "    <tr>\n",
              "      <th>4</th>\n",
              "      <td>1</td>\n",
              "      <td>teachers give us all the information required ...</td>\n",
              "      <td>Good</td>\n",
              "      <td>1</td>\n",
              "    </tr>\n",
              "  </tbody>\n",
              "</table>\n",
              "</div>\n",
              "      <button class=\"colab-df-convert\" onclick=\"convertToInteractive('df-6e2114f5-05cd-462b-a6c5-192049eac771')\"\n",
              "              title=\"Convert this dataframe to an interactive table.\"\n",
              "              style=\"display:none;\">\n",
              "        \n",
              "  <svg xmlns=\"http://www.w3.org/2000/svg\" height=\"24px\"viewBox=\"0 0 24 24\"\n",
              "       width=\"24px\">\n",
              "    <path d=\"M0 0h24v24H0V0z\" fill=\"none\"/>\n",
              "    <path d=\"M18.56 5.44l.94 2.06.94-2.06 2.06-.94-2.06-.94-.94-2.06-.94 2.06-2.06.94zm-11 1L8.5 8.5l.94-2.06 2.06-.94-2.06-.94L8.5 2.5l-.94 2.06-2.06.94zm10 10l.94 2.06.94-2.06 2.06-.94-2.06-.94-.94-2.06-.94 2.06-2.06.94z\"/><path d=\"M17.41 7.96l-1.37-1.37c-.4-.4-.92-.59-1.43-.59-.52 0-1.04.2-1.43.59L10.3 9.45l-7.72 7.72c-.78.78-.78 2.05 0 2.83L4 21.41c.39.39.9.59 1.41.59.51 0 1.02-.2 1.41-.59l7.78-7.78 2.81-2.81c.8-.78.8-2.07 0-2.86zM5.41 20L4 18.59l7.72-7.72 1.47 1.35L5.41 20z\"/>\n",
              "  </svg>\n",
              "      </button>\n",
              "      \n",
              "  <style>\n",
              "    .colab-df-container {\n",
              "      display:flex;\n",
              "      flex-wrap:wrap;\n",
              "      gap: 12px;\n",
              "    }\n",
              "\n",
              "    .colab-df-convert {\n",
              "      background-color: #E8F0FE;\n",
              "      border: none;\n",
              "      border-radius: 50%;\n",
              "      cursor: pointer;\n",
              "      display: none;\n",
              "      fill: #1967D2;\n",
              "      height: 32px;\n",
              "      padding: 0 0 0 0;\n",
              "      width: 32px;\n",
              "    }\n",
              "\n",
              "    .colab-df-convert:hover {\n",
              "      background-color: #E2EBFA;\n",
              "      box-shadow: 0px 1px 2px rgba(60, 64, 67, 0.3), 0px 1px 3px 1px rgba(60, 64, 67, 0.15);\n",
              "      fill: #174EA6;\n",
              "    }\n",
              "\n",
              "    [theme=dark] .colab-df-convert {\n",
              "      background-color: #3B4455;\n",
              "      fill: #D2E3FC;\n",
              "    }\n",
              "\n",
              "    [theme=dark] .colab-df-convert:hover {\n",
              "      background-color: #434B5C;\n",
              "      box-shadow: 0px 1px 3px 1px rgba(0, 0, 0, 0.15);\n",
              "      filter: drop-shadow(0px 1px 2px rgba(0, 0, 0, 0.3));\n",
              "      fill: #FFFFFF;\n",
              "    }\n",
              "  </style>\n",
              "\n",
              "      <script>\n",
              "        const buttonEl =\n",
              "          document.querySelector('#df-6e2114f5-05cd-462b-a6c5-192049eac771 button.colab-df-convert');\n",
              "        buttonEl.style.display =\n",
              "          google.colab.kernel.accessAllowed ? 'block' : 'none';\n",
              "\n",
              "        async function convertToInteractive(key) {\n",
              "          const element = document.querySelector('#df-6e2114f5-05cd-462b-a6c5-192049eac771');\n",
              "          const dataTable =\n",
              "            await google.colab.kernel.invokeFunction('convertToInteractive',\n",
              "                                                     [key], {});\n",
              "          if (!dataTable) return;\n",
              "\n",
              "          const docLinkHtml = 'Like what you see? Visit the ' +\n",
              "            '<a target=\"_blank\" href=https://colab.research.google.com/notebooks/data_table.ipynb>data table notebook</a>'\n",
              "            + ' to learn more about interactive tables.';\n",
              "          element.innerHTML = '';\n",
              "          dataTable['output_type'] = 'display_data';\n",
              "          await google.colab.output.renderOutput(dataTable, element);\n",
              "          const docLink = document.createElement('div');\n",
              "          docLink.innerHTML = docLinkHtml;\n",
              "          element.appendChild(docLink);\n",
              "        }\n",
              "      </script>\n",
              "    </div>\n",
              "  </div>\n",
              "  "
            ]
          },
          "metadata": {},
          "execution_count": 49
        }
      ]
    },
    {
      "cell_type": "code",
      "source": [
        "from sklearn.model_selection import train_test_split\n",
        "# Split data into training and test sets\n",
        "X_train, X_test, y_train, y_test = train_test_split(df['teaching.1'], df['positively_rated'], random_state=0)\n",
        "\n",
        "print('X_train first entry:\\n\\n', X_train.iloc[2])\n",
        "print('\\n\\nX_train shape: ', X_train.shape)"
      ],
      "metadata": {
        "colab": {
          "base_uri": "https://localhost:8080/"
        },
        "id": "v0dgbMIJ_QDU",
        "outputId": "6ce2c5fa-c5ba-458b-860c-886aa6de5c28"
      },
      "execution_count": null,
      "outputs": [
        {
          "output_type": "stream",
          "name": "stdout",
          "text": [
            "X_train first entry:\n",
            "\n",
            " not bad..\n",
            "\n",
            "\n",
            "X_train shape:  (138,)\n"
          ]
        }
      ]
    },
    {
      "cell_type": "code",
      "source": [
        "from sklearn.feature_extraction.text import CountVectorizer\n",
        "\n",
        "# Fit the CountVectorizer to the training data\n",
        "vect = CountVectorizer()\n",
        "X_train_vec = vect.fit_transform(X_train)\n"
      ],
      "metadata": {
        "id": "yx9DSroG_8Wl"
      },
      "execution_count": null,
      "outputs": []
    },
    {
      "cell_type": "code",
      "source": [
        "# transform the documents in the training data to a document-term matrix\n",
        "X_train_vectorized = vect.transform(X_train)\n",
        "print('Shape of matrix', X_train_vectorized.shape)\n",
        "print(X_train_vectorized.toarray()[2])"
      ],
      "metadata": {
        "colab": {
          "base_uri": "https://localhost:8080/"
        },
        "id": "kcA1fyYRAJKh",
        "outputId": "3cb80655-4fd1-4682-c5c1-66ecbb2cf233"
      },
      "execution_count": null,
      "outputs": [
        {
          "output_type": "stream",
          "name": "stdout",
          "text": [
            "Shape of matrix (138, 316)\n",
            "[0 0 0 0 0 0 0 0 0 0 0 0 0 0 0 0 0 0 0 0 0 0 0 1 0 0 0 0 0 0 0 0 0 0 0 0 0\n",
            " 0 0 0 0 0 0 0 0 0 0 0 0 0 0 0 0 0 0 0 0 0 0 0 0 0 0 0 0 0 0 0 0 0 0 0 0 0\n",
            " 0 0 0 0 0 0 0 0 0 0 0 0 0 0 0 0 0 0 0 0 0 0 0 0 0 0 0 0 0 0 0 0 0 0 0 0 0\n",
            " 0 0 0 0 0 0 0 0 0 0 0 0 0 0 0 0 0 0 0 0 0 0 0 0 0 0 0 0 0 0 0 0 0 0 0 0 0\n",
            " 0 0 0 0 0 0 0 0 0 0 0 0 0 0 0 0 0 0 0 0 0 0 0 0 0 0 0 0 0 0 0 0 0 0 0 0 0\n",
            " 0 0 0 0 0 0 1 0 0 0 0 0 0 0 0 0 0 0 0 0 0 0 0 0 0 0 0 0 0 0 0 0 0 0 0 0 0\n",
            " 0 0 0 0 0 0 0 0 0 0 0 0 0 0 0 0 0 0 0 0 0 0 0 0 0 0 0 0 0 0 0 0 0 0 0 0 0\n",
            " 0 0 0 0 0 0 0 0 0 0 0 0 0 0 0 0 0 0 0 0 0 0 0 0 0 0 0 0 0 0 0 0 0 0 0 0 0\n",
            " 0 0 0 0 0 0 0 0 0 0 0 0 0 0 0 0 0 0 0 0]\n"
          ]
        }
      ]
    },
    {
      "cell_type": "code",
      "source": [
        "from sklearn.linear_model import LogisticRegression,SGDClassifier\n",
        "# Train the model\n",
        "model = LogisticRegression()\n",
        "\n",
        "model.fit(X_train_vectorized, y_train)"
      ],
      "metadata": {
        "id": "We6NbBvxBjq2",
        "colab": {
          "base_uri": "https://localhost:8080/",
          "height": 74
        },
        "outputId": "c4211fab-e1ec-4a8e-ffa2-c7ff8f4b77f9"
      },
      "execution_count": null,
      "outputs": [
        {
          "output_type": "execute_result",
          "data": {
            "text/plain": [
              "LogisticRegression()"
            ],
            "text/html": [
              "<style>#sk-container-id-2 {color: black;background-color: white;}#sk-container-id-2 pre{padding: 0;}#sk-container-id-2 div.sk-toggleable {background-color: white;}#sk-container-id-2 label.sk-toggleable__label {cursor: pointer;display: block;width: 100%;margin-bottom: 0;padding: 0.3em;box-sizing: border-box;text-align: center;}#sk-container-id-2 label.sk-toggleable__label-arrow:before {content: \"▸\";float: left;margin-right: 0.25em;color: #696969;}#sk-container-id-2 label.sk-toggleable__label-arrow:hover:before {color: black;}#sk-container-id-2 div.sk-estimator:hover label.sk-toggleable__label-arrow:before {color: black;}#sk-container-id-2 div.sk-toggleable__content {max-height: 0;max-width: 0;overflow: hidden;text-align: left;background-color: #f0f8ff;}#sk-container-id-2 div.sk-toggleable__content pre {margin: 0.2em;color: black;border-radius: 0.25em;background-color: #f0f8ff;}#sk-container-id-2 input.sk-toggleable__control:checked~div.sk-toggleable__content {max-height: 200px;max-width: 100%;overflow: auto;}#sk-container-id-2 input.sk-toggleable__control:checked~label.sk-toggleable__label-arrow:before {content: \"▾\";}#sk-container-id-2 div.sk-estimator input.sk-toggleable__control:checked~label.sk-toggleable__label {background-color: #d4ebff;}#sk-container-id-2 div.sk-label input.sk-toggleable__control:checked~label.sk-toggleable__label {background-color: #d4ebff;}#sk-container-id-2 input.sk-hidden--visually {border: 0;clip: rect(1px 1px 1px 1px);clip: rect(1px, 1px, 1px, 1px);height: 1px;margin: -1px;overflow: hidden;padding: 0;position: absolute;width: 1px;}#sk-container-id-2 div.sk-estimator {font-family: monospace;background-color: #f0f8ff;border: 1px dotted black;border-radius: 0.25em;box-sizing: border-box;margin-bottom: 0.5em;}#sk-container-id-2 div.sk-estimator:hover {background-color: #d4ebff;}#sk-container-id-2 div.sk-parallel-item::after {content: \"\";width: 100%;border-bottom: 1px solid gray;flex-grow: 1;}#sk-container-id-2 div.sk-label:hover label.sk-toggleable__label {background-color: #d4ebff;}#sk-container-id-2 div.sk-serial::before {content: \"\";position: absolute;border-left: 1px solid gray;box-sizing: border-box;top: 0;bottom: 0;left: 50%;z-index: 0;}#sk-container-id-2 div.sk-serial {display: flex;flex-direction: column;align-items: center;background-color: white;padding-right: 0.2em;padding-left: 0.2em;position: relative;}#sk-container-id-2 div.sk-item {position: relative;z-index: 1;}#sk-container-id-2 div.sk-parallel {display: flex;align-items: stretch;justify-content: center;background-color: white;position: relative;}#sk-container-id-2 div.sk-item::before, #sk-container-id-2 div.sk-parallel-item::before {content: \"\";position: absolute;border-left: 1px solid gray;box-sizing: border-box;top: 0;bottom: 0;left: 50%;z-index: -1;}#sk-container-id-2 div.sk-parallel-item {display: flex;flex-direction: column;z-index: 1;position: relative;background-color: white;}#sk-container-id-2 div.sk-parallel-item:first-child::after {align-self: flex-end;width: 50%;}#sk-container-id-2 div.sk-parallel-item:last-child::after {align-self: flex-start;width: 50%;}#sk-container-id-2 div.sk-parallel-item:only-child::after {width: 0;}#sk-container-id-2 div.sk-dashed-wrapped {border: 1px dashed gray;margin: 0 0.4em 0.5em 0.4em;box-sizing: border-box;padding-bottom: 0.4em;background-color: white;}#sk-container-id-2 div.sk-label label {font-family: monospace;font-weight: bold;display: inline-block;line-height: 1.2em;}#sk-container-id-2 div.sk-label-container {text-align: center;}#sk-container-id-2 div.sk-container {/* jupyter's `normalize.less` sets `[hidden] { display: none; }` but bootstrap.min.css set `[hidden] { display: none !important; }` so we also need the `!important` here to be able to override the default hidden behavior on the sphinx rendered scikit-learn.org. See: https://github.com/scikit-learn/scikit-learn/issues/21755 */display: inline-block !important;position: relative;}#sk-container-id-2 div.sk-text-repr-fallback {display: none;}</style><div id=\"sk-container-id-2\" class=\"sk-top-container\"><div class=\"sk-text-repr-fallback\"><pre>LogisticRegression()</pre><b>In a Jupyter environment, please rerun this cell to show the HTML representation or trust the notebook. <br />On GitHub, the HTML representation is unable to render, please try loading this page with nbviewer.org.</b></div><div class=\"sk-container\" hidden><div class=\"sk-item\"><div class=\"sk-estimator sk-toggleable\"><input class=\"sk-toggleable__control sk-hidden--visually\" id=\"sk-estimator-id-2\" type=\"checkbox\" checked><label for=\"sk-estimator-id-2\" class=\"sk-toggleable__label sk-toggleable__label-arrow\">LogisticRegression</label><div class=\"sk-toggleable__content\"><pre>LogisticRegression()</pre></div></div></div></div></div>"
            ]
          },
          "metadata": {},
          "execution_count": 53
        }
      ]
    },
    {
      "cell_type": "code",
      "source": [
        "from sklearn.metrics import roc_curve, roc_auc_score, auc\n",
        "# Predict the transformed test documents\n",
        "predictions = model.predict(vect.transform(X_test))\n",
        "print('AUC: ', roc_auc_score(y_test, predictions))\n",
        "false_positive_rate, true_positive_rate, thresholds = roc_curve(y_test, predictions)\n",
        "roc_auc = auc(false_positive_rate, true_positive_rate)"
      ],
      "metadata": {
        "id": "fp_ordObBoh9",
        "colab": {
          "base_uri": "https://localhost:8080/"
        },
        "outputId": "0ae8d05f-4c22-4ce8-f51e-988a223d1aa6"
      },
      "execution_count": null,
      "outputs": [
        {
          "output_type": "stream",
          "name": "stdout",
          "text": [
            "AUC:  0.7594594594594595\n"
          ]
        }
      ]
    },
    {
      "cell_type": "code",
      "source": [
        "plt.title('Receiver Operating Characteristic')\n",
        "plt.plot(false_positive_rate, true_positive_rate, 'b', label='AUC = %0.3f'% roc_auc)\n",
        "plt.legend(loc='lower right')\n",
        "plt.plot([0,1],[0,1],'r--')\n",
        "plt.ylabel('True Positive Rate')\n",
        "plt.xlabel('False Positive Rate')"
      ],
      "metadata": {
        "id": "rclxE-3DBucK",
        "colab": {
          "base_uri": "https://localhost:8080/",
          "height": 490
        },
        "outputId": "3bdaa20c-4588-44b0-8544-fbb7dbf8ca84"
      },
      "execution_count": null,
      "outputs": [
        {
          "output_type": "execute_result",
          "data": {
            "text/plain": [
              "Text(0.5, 0, 'False Positive Rate')"
            ]
          },
          "metadata": {},
          "execution_count": 55
        },
        {
          "output_type": "display_data",
          "data": {
            "text/plain": [
              "<Figure size 640x480 with 1 Axes>"
            ],
            "image/png": "[encoded data removed]"
          },
          "metadata": {}
        }
      ]
    },
    {
      "cell_type": "code",
      "source": [
        "from sklearn.feature_extraction.text import TfidfVectorizer\n",
        "# Fit the TfidfVectorizer to the training data specifiying a minimum document frequency of 5; \n",
        "# you can play with it and see how accuracy changes \n",
        "vect_tf = TfidfVectorizer(min_df=5).fit(X_train)"
      ],
      "metadata": {
        "id": "HQx6dnb1CwtT"
      },
      "execution_count": null,
      "outputs": []
    },
    {
      "cell_type": "code",
      "source": [
        "X_train_vectorized_tf = vect.transform(X_train)\n",
        "model = LogisticRegression()\n",
        "model.fit(X_train_vectorized_tf, y_train)\n",
        "predictions_tf = model.predict(vect.transform(X_test))\n",
        "print('AUC: ', roc_auc_score(y_test, predictions_tf))"
      ],
      "metadata": {
        "id": "uPpVQZ8oC3DC",
        "colab": {
          "base_uri": "https://localhost:8080/"
        },
        "outputId": "b8701e08-ee46-44b3-d702-191db3a1ad39"
      },
      "execution_count": null,
      "outputs": [
        {
          "output_type": "stream",
          "name": "stdout",
          "text": [
            "AUC:  0.7594594594594595\n"
          ]
        }
      ]
    },
    {
      "cell_type": "code",
      "source": [
        "# These reviews are treated the same by our current model\n",
        "print(model.predict(vect.transform(['Mentor explained to slow and not efficient', 'I think the mentor explained the materials so bad'])))"
      ],
      "metadata": {
        "id": "CmIvWnRVDT0L",
        "colab": {
          "base_uri": "https://localhost:8080/"
        },
        "outputId": "80decea1-492a-4438-85e7-dfdc905bf8b5"
      },
      "execution_count": null,
      "outputs": [
        {
          "output_type": "stream",
          "name": "stdout",
          "text": [
            "[0 1]\n"
          ]
        }
      ]
    },
    {
      "cell_type": "code",
      "source": [
        "# Fit the CountVectorizer to the training data specifiying a minimum \n",
        "# document frequency of 5 and extracting 1-grams and 2-grams\n",
        "vect = CountVectorizer(min_df=5, ngram_range=(1,2)).fit(X_train)\n",
        "X_train_vectorized = vect.transform(X_train)"
      ],
      "metadata": {
        "id": "aOoZcSCkC4lx"
      },
      "execution_count": null,
      "outputs": []
    },
    {
      "cell_type": "code",
      "source": [
        "model = LogisticRegression()\n",
        "model.fit(X_train_vectorized, y_train)\n",
        "predictions = model.predict(vect.transform(X_test))\n",
        "false_positive_rate, true_positive_rate, thresholds = roc_curve(y_test, predictions)\n",
        "roc_auc = auc(false_positive_rate, true_positive_rate)\n",
        "print('AUC: ', roc_auc_score(y_test, predictions))"
      ],
      "metadata": {
        "id": "IdugFgkoDNNR",
        "colab": {
          "base_uri": "https://localhost:8080/"
        },
        "outputId": "c3afc276-9744-4719-85ff-b9c34806a87e"
      },
      "execution_count": null,
      "outputs": [
        {
          "output_type": "stream",
          "name": "stdout",
          "text": [
            "AUC:  0.7594594594594595\n"
          ]
        }
      ]
    },
    {
      "cell_type": "code",
      "source": [
        "plt.title('Receiver Operating Characteristic')\n",
        "plt.plot(false_positive_rate, true_positive_rate, 'b', label='AUC = %0.3f'% roc_auc)\n",
        "plt.legend(loc='lower right')\n",
        "plt.plot([0,1],[0,1],'r--')\n",
        "plt.ylabel('True Positive Rate')\n",
        "plt.xlabel('False Positive Rate')"
      ],
      "metadata": {
        "id": "OysV9tDzDO_2",
        "colab": {
          "base_uri": "https://localhost:8080/",
          "height": 490
        },
        "outputId": "8822c008-1506-4345-b6cf-b5f2112d71eb"
      },
      "execution_count": null,
      "outputs": [
        {
          "output_type": "execute_result",
          "data": {
            "text/plain": [
              "Text(0.5, 0, 'False Positive Rate')"
            ]
          },
          "metadata": {},
          "execution_count": 61
        },
        {
          "output_type": "display_data",
          "data": {
            "text/plain": [
              "<Figure size 640x480 with 1 Axes>"
            ],
            "image/png": "[encoded data removed]"
          },
          "metadata": {}
        }
      ]
    },
    {
      "cell_type": "code",
      "source": [
        "print(model.predict(vect.transform([\"The mentor was unresponsive and didn't provide any helpful guidance. I felt ignored and frustrated throughout the mentorship program.\",\n",
        "                \"I found the mentor's teaching style to be confusing and ineffective. The explanations were unclear, and I struggled to understand the concepts.\"])))"
      ],
      "metadata": {
        "id": "vJ7x0MQODe3T",
        "colab": {
          "base_uri": "https://localhost:8080/"
        },
        "outputId": "014d5eaa-ed15-4fdf-ab75-9e464f928067"
      },
      "execution_count": null,
      "outputs": [
        {
          "output_type": "stream",
          "name": "stdout",
          "text": [
            "[0 0]\n"
          ]
        }
      ]
    },
    {
      "cell_type": "code",
      "source": [
        "# Try a random review but be sure the words belongs to document term matrix or dictionary built from training set!\n",
        "print(model.predict(vect.transform([\"The mentor was unresponsive and didn't provide any helpful guidance. I felt ignored and frustrated throughout the mentorship program.\",\n",
        "                \"I found the mentor's teaching style to be confusing and ineffective. The explanations were unclear, and I struggled to understand the concepts.\",\n",
        "                \"The mentor lacked patience and seemed uninterested in helping me. I felt rushed and discouraged whenever I asked questions.\",\n",
        "                \"The mentor didn't provide timely feedback on my work. It took days or even weeks to receive any response, which hindered my progress.\",\n",
        "                \"I had high expectations for the mentor, but unfortunately, they didn't meet them. Their knowledge on the subject matter was limited, and I didn't gain much from the mentorship.\"])))"
      ],
      "metadata": {
        "id": "KbHDTqD5DplI",
        "colab": {
          "base_uri": "https://localhost:8080/"
        },
        "outputId": "886a7bd4-edb6-4c53-dd15-e366d1676dc2"
      },
      "execution_count": null,
      "outputs": [
        {
          "output_type": "stream",
          "name": "stdout",
          "text": [
            "[0 0 1 1 0]\n"
          ]
        }
      ]
    },
    {
      "cell_type": "code",
      "source": [
        "print(model.predict(vect.transform([\"Thank you for being an amazing mentor. Your guidance and support have truly helped me grow both personally and professionally.\",\n",
        "\"I appreciate your patience and willingness to answer all my questions. You have made the learning process much easier for me.\",\n",
        "\"I'm grateful for your constructive feedback. It has helped me identify my strengths and areas for improvement.\",\n",
        "\"You have a remarkable ability to explain complex concepts in a simple and understandable manner. It has made a significant difference in my understanding.\",\n",
        "\"Your passion for your work is contagious. It has inspired me to pursue my goals with even more enthusiasm.\",\n",
        "\"Thank you for always making time for our mentoring sessions. Your availability and dedication have made me feel valued and supported.\",\n",
        "\"Your mentorship has not only provided me with valuable skills but also boosted my confidence. I now believe in my abilities more than ever.\",\n",
        "\"I appreciate your honesty and directness. Your feedback has helped me develop a stronger sense of self-awareness.\",\n",
        "\"You have a talent for identifying and nurturing potential. I'm grateful to have you as a mentor, guiding me towards my full potential.\",\n",
        "\"Your guidance has had a profound impact on my professional development. I am excited to continue learning and growing under your mentorship.\"])))"
      ],
      "metadata": {
        "id": "ds9i4R6DG4I8",
        "colab": {
          "base_uri": "https://localhost:8080/"
        },
        "outputId": "b70f254d-c975-42b3-e441-7d45c3b2a838"
      },
      "execution_count": null,
      "outputs": [
        {
          "output_type": "stream",
          "name": "stdout",
          "text": [
            "[1 1 1 1 1 1 0 1 1 1]\n"
          ]
        }
      ]
    },
    {
      "cell_type": "code",
      "source": [
        "print(model.predict(vect.transform([\"I feel like you don't really listen to my concerns or take them seriously. It's frustrating and makes me question the value of our mentoring relationship.\",\n",
        "\"Your feedback is often vague and unhelpful. I need more specific guidance to understand how to improve.\",\n",
        "\"I find it difficult to reach you when I need assistance. It feels like you're not fully committed to our mentoring agreement.\",\n",
        "\"Your communication style is condescending and demotivating. It makes me hesitant to ask questions or seek your guidance.\",\n",
        "\"You don't seem to have a clear plan or structure for our mentoring sessions. It feels like we're just going through the motions without any real progress.\",\n",
        "\"I've noticed that you often cancel or reschedule our sessions at the last minute. It's disrespectful of my time and shows a lack of commitment.\",\n",
        "\"Your expectations are unrealistic and unattainable. It's discouraging to constantly feel like I'm falling short.\",\n",
        "\"I've asked for specific resources or materials multiple times, but you have failed to provide them. It hampers my learning and growth.\",\n",
        "\"I feel like you prioritize other mentees over me. It's disheartening to not receive the same level of attention and support.\",\n",
        "\"Your mentoring style is too hands-off. I need more guidance and direction to truly benefit from our mentoring relationship.\"])))"
      ],
      "metadata": {
        "id": "5fcQ7ypsHe6H",
        "colab": {
          "base_uri": "https://localhost:8080/"
        },
        "outputId": "f05798e2-ff27-40b0-958d-109176d1b4ed"
      },
      "execution_count": null,
      "outputs": [
        {
          "output_type": "stream",
          "name": "stdout",
          "text": [
            "[1 0 1 1 1 1 1 0 0 1]\n"
          ]
        }
      ]
    },
    {
      "cell_type": "markdown",
      "source": [
        "# CARA LAIN 1"
      ],
      "metadata": {
        "id": "hIJLVdJqzklT"
      }
    },
    {
      "cell_type": "code",
      "source": [
        "df.head()"
      ],
      "metadata": {
        "id": "w07pXbEXCc_3",
        "colab": {
          "base_uri": "https://localhost:8080/",
          "height": 206
        },
        "outputId": "6f7a042d-ed10-4e83-c942-bfe169676713"
      },
      "execution_count": null,
      "outputs": [
        {
          "output_type": "execute_result",
          "data": {
            "text/plain": [
              "   teaching                                         teaching.1 Rating  \\\n",
              "0         0  teacher are punctual but they should also give...    Bad   \n",
              "1         1                                              Good    Good   \n",
              "2         1  Excellent lectures are delivered by teachers a...   Good   \n",
              "3         1                                               Good   Good   \n",
              "4         1  teachers give us all the information required ...   Good   \n",
              "\n",
              "   positively_rated  \n",
              "0                 0  \n",
              "1                 1  \n",
              "2                 1  \n",
              "3                 1  \n",
              "4                 1  "
            ],
            "text/html": [
              "\n",
              "  <div id=\"df-a10c7dc6-2b4b-4241-84ea-4c7af1bbbd9d\">\n",
              "    <div class=\"colab-df-container\">\n",
              "      <div>\n",
              "<style scoped>\n",
              "    .dataframe tbody tr th:only-of-type {\n",
              "        vertical-align: middle;\n",
              "    }\n",
              "\n",
              "    .dataframe tbody tr th {\n",
              "        vertical-align: top;\n",
              "    }\n",
              "\n",
              "    .dataframe thead th {\n",
              "        text-align: right;\n",
              "    }\n",
              "</style>\n",
              "<table border=\"1\" class=\"dataframe\">\n",
              "  <thead>\n",
              "    <tr style=\"text-align: right;\">\n",
              "      <th></th>\n",
              "      <th>teaching</th>\n",
              "      <th>teaching.1</th>\n",
              "      <th>Rating</th>\n",
              "      <th>positively_rated</th>\n",
              "    </tr>\n",
              "  </thead>\n",
              "  <tbody>\n",
              "    <tr>\n",
              "      <th>0</th>\n",
              "      <td>0</td>\n",
              "      <td>teacher are punctual but they should also give...</td>\n",
              "      <td>Bad</td>\n",
              "      <td>0</td>\n",
              "    </tr>\n",
              "    <tr>\n",
              "      <th>1</th>\n",
              "      <td>1</td>\n",
              "      <td>Good</td>\n",
              "      <td>Good</td>\n",
              "      <td>1</td>\n",
              "    </tr>\n",
              "    <tr>\n",
              "      <th>2</th>\n",
              "      <td>1</td>\n",
              "      <td>Excellent lectures are delivered by teachers a...</td>\n",
              "      <td>Good</td>\n",
              "      <td>1</td>\n",
              "    </tr>\n",
              "    <tr>\n",
              "      <th>3</th>\n",
              "      <td>1</td>\n",
              "      <td>Good</td>\n",
              "      <td>Good</td>\n",
              "      <td>1</td>\n",
              "    </tr>\n",
              "    <tr>\n",
              "      <th>4</th>\n",
              "      <td>1</td>\n",
              "      <td>teachers give us all the information required ...</td>\n",
              "      <td>Good</td>\n",
              "      <td>1</td>\n",
              "    </tr>\n",
              "  </tbody>\n",
              "</table>\n",
              "</div>\n",
              "      <button class=\"colab-df-convert\" onclick=\"convertToInteractive('df-a10c7dc6-2b4b-4241-84ea-4c7af1bbbd9d')\"\n",
              "              title=\"Convert this dataframe to an interactive table.\"\n",
              "              style=\"display:none;\">\n",
              "        \n",
              "  <svg xmlns=\"http://www.w3.org/2000/svg\" height=\"24px\"viewBox=\"0 0 24 24\"\n",
              "       width=\"24px\">\n",
              "    <path d=\"M0 0h24v24H0V0z\" fill=\"none\"/>\n",
              "    <path d=\"M18.56 5.44l.94 2.06.94-2.06 2.06-.94-2.06-.94-.94-2.06-.94 2.06-2.06.94zm-11 1L8.5 8.5l.94-2.06 2.06-.94-2.06-.94L8.5 2.5l-.94 2.06-2.06.94zm10 10l.94 2.06.94-2.06 2.06-.94-2.06-.94-.94-2.06-.94 2.06-2.06.94z\"/><path d=\"M17.41 7.96l-1.37-1.37c-.4-.4-.92-.59-1.43-.59-.52 0-1.04.2-1.43.59L10.3 9.45l-7.72 7.72c-.78.78-.78 2.05 0 2.83L4 21.41c.39.39.9.59 1.41.59.51 0 1.02-.2 1.41-.59l7.78-7.78 2.81-2.81c.8-.78.8-2.07 0-2.86zM5.41 20L4 18.59l7.72-7.72 1.47 1.35L5.41 20z\"/>\n",
              "  </svg>\n",
              "      </button>\n",
              "      \n",
              "  <style>\n",
              "    .colab-df-container {\n",
              "      display:flex;\n",
              "      flex-wrap:wrap;\n",
              "      gap: 12px;\n",
              "    }\n",
              "\n",
              "    .colab-df-convert {\n",
              "      background-color: #E8F0FE;\n",
              "      border: none;\n",
              "      border-radius: 50%;\n",
              "      cursor: pointer;\n",
              "      display: none;\n",
              "      fill: #1967D2;\n",
              "      height: 32px;\n",
              "      padding: 0 0 0 0;\n",
              "      width: 32px;\n",
              "    }\n",
              "\n",
              "    .colab-df-convert:hover {\n",
              "      background-color: #E2EBFA;\n",
              "      box-shadow: 0px 1px 2px rgba(60, 64, 67, 0.3), 0px 1px 3px 1px rgba(60, 64, 67, 0.15);\n",
              "      fill: #174EA6;\n",
              "    }\n",
              "\n",
              "    [theme=dark] .colab-df-convert {\n",
              "      background-color: #3B4455;\n",
              "      fill: #D2E3FC;\n",
              "    }\n",
              "\n",
              "    [theme=dark] .colab-df-convert:hover {\n",
              "      background-color: #434B5C;\n",
              "      box-shadow: 0px 1px 3px 1px rgba(0, 0, 0, 0.15);\n",
              "      filter: drop-shadow(0px 1px 2px rgba(0, 0, 0, 0.3));\n",
              "      fill: #FFFFFF;\n",
              "    }\n",
              "  </style>\n",
              "\n",
              "      <script>\n",
              "        const buttonEl =\n",
              "          document.querySelector('#df-a10c7dc6-2b4b-4241-84ea-4c7af1bbbd9d button.colab-df-convert');\n",
              "        buttonEl.style.display =\n",
              "          google.colab.kernel.accessAllowed ? 'block' : 'none';\n",
              "\n",
              "        async function convertToInteractive(key) {\n",
              "          const element = document.querySelector('#df-a10c7dc6-2b4b-4241-84ea-4c7af1bbbd9d');\n",
              "          const dataTable =\n",
              "            await google.colab.kernel.invokeFunction('convertToInteractive',\n",
              "                                                     [key], {});\n",
              "          if (!dataTable) return;\n",
              "\n",
              "          const docLinkHtml = 'Like what you see? Visit the ' +\n",
              "            '<a target=\"_blank\" href=https://colab.research.google.com/notebooks/data_table.ipynb>data table notebook</a>'\n",
              "            + ' to learn more about interactive tables.';\n",
              "          element.innerHTML = '';\n",
              "          dataTable['output_type'] = 'display_data';\n",
              "          await google.colab.output.renderOutput(dataTable, element);\n",
              "          const docLink = document.createElement('div');\n",
              "          docLink.innerHTML = docLinkHtml;\n",
              "          element.appendChild(docLink);\n",
              "        }\n",
              "      </script>\n",
              "    </div>\n",
              "  </div>\n",
              "  "
            ]
          },
          "metadata": {},
          "execution_count": 66
        }
      ]
    },
    {
      "cell_type": "code",
      "source": [
        "import pandas as pd\n",
        "from sklearn.feature_extraction.text import TfidfVectorizer\n",
        "from sklearn.ensemble import RandomForestClassifier\n",
        "from sklearn.model_selection import train_test_split\n",
        "from sklearn.metrics import accuracy_score\n",
        "\n",
        "\n",
        "# Memisahkan fitur dan label\n",
        "X = df[\"teaching.1\"]\n",
        "y = df[\"positively_rated\"]\n",
        "\n",
        "# Ekstraksi fitur TF-IDF\n",
        "vectorizer = TfidfVectorizer()\n",
        "X_transformed = vectorizer.fit_transform(X)\n",
        "\n",
        "# Memisahkan data training dan data uji\n",
        "X_train, X_test, y_train, y_test = train_test_split(X_transformed, y, test_size=0.2, random_state=0)\n",
        "\n",
        "# Inisialisasi model\n",
        "classifier = RandomForestClassifier(n_estimators=1000, random_state=0)\n",
        "\n",
        "# Melatih model\n",
        "classifier.fit(X_train, y_train)\n",
        "\n",
        "# Menguji model pada data uji\n",
        "y_pred = classifier.predict(X_test)\n",
        "\n",
        "# Menghitung akurasi\n",
        "accuracy = accuracy_score(y_test, y_pred)\n",
        "print(\"Akurasi: {:.2f}%\".format(accuracy * 100))"
      ],
      "metadata": {
        "colab": {
          "base_uri": "https://localhost:8080/"
        },
        "id": "5s2js3YajzKs",
        "outputId": "5f980f24-51d7-4108-c644-46612b3d34a8"
      },
      "execution_count": null,
      "outputs": [
        {
          "output_type": "stream",
          "name": "stdout",
          "text": [
            "Akurasi: 86.49%\n"
          ]
        }
      ]
    },
    {
      "cell_type": "markdown",
      "source": [
        "### TEST DATA BAIK"
      ],
      "metadata": {
        "id": "4QQQEvC_m9g8"
      }
    },
    {
      "cell_type": "code",
      "source": [
        "# Data baru untuk pengujian\n",
        "new_data = [\n",
        "    \"Thank you for being an amazing mentor. Your guidance and support have truly helped me grow both personally and professionally.\",\n",
        "\"I appreciate your patience and willingness to answer all my questions. You have made the learning process much easier for me.\",\n",
        "\"I'm grateful for your constructive feedback. It has helped me identify my strengths and areas for improvement.\",\n",
        "\"You have a remarkable ability to explain complex concepts in a simple and understandable manner. It has made a significant difference in my understanding.\",\n",
        "\"Your passion for your work is contagious. It has inspired me to pursue my goals with even more enthusiasm.\",\n",
        "\"Thank you for always making time for our mentoring sessions. Your availability and dedication have made me feel valued and supported.\",\n",
        "\"Your mentorship has not only provided me with valuable skills but also boosted my confidence. I now believe in my abilities more than ever.\",\n",
        "\"I appreciate your honesty and directness. Your feedback has helped me develop a stronger sense of self-awareness.\",\n",
        "\"You have a talent for identifying and nurturing potential. I'm grateful to have you as a mentor, guiding me towards my full potential.\",\n",
        "\"Your guidance has had a profound impact on my professional development. I am excited to continue learning and growing under your mentorship.\"\n",
        "]\n",
        "\n",
        "# Ekstraksi fitur TF-IDF pada data baru\n",
        "new_data_transformed = vectorizer.transform(new_data)\n",
        "\n",
        "# Melakukan prediksi pada data baru\n",
        "new_data_pred = classifier.predict(new_data_transformed)\n",
        "\n",
        "# Cetak hasil prediksi\n",
        "for data, pred in zip(new_data, new_data_pred):\n",
        "    sentiment = \"positive\" if pred == 1 else \"negative\"\n",
        "    print(\"Teks:\", data)\n",
        "    print(\"Sentimen:\", sentiment)\n",
        "    print()"
      ],
      "metadata": {
        "colab": {
          "base_uri": "https://localhost:8080/"
        },
        "id": "YpRsINOMj5te",
        "outputId": "e064fa3c-24dd-47c0-861d-8c9ba8aea5e4"
      },
      "execution_count": null,
      "outputs": [
        {
          "output_type": "stream",
          "name": "stdout",
          "text": [
            "Teks: Thank you for being an amazing mentor. Your guidance and support have truly helped me grow both personally and professionally.\n",
            "Sentimen: positive\n",
            "\n",
            "Teks: I appreciate your patience and willingness to answer all my questions. You have made the learning process much easier for me.\n",
            "Sentimen: positive\n",
            "\n",
            "Teks: I'm grateful for your constructive feedback. It has helped me identify my strengths and areas for improvement.\n",
            "Sentimen: positive\n",
            "\n",
            "Teks: You have a remarkable ability to explain complex concepts in a simple and understandable manner. It has made a significant difference in my understanding.\n",
            "Sentimen: positive\n",
            "\n",
            "Teks: Your passion for your work is contagious. It has inspired me to pursue my goals with even more enthusiasm.\n",
            "Sentimen: positive\n",
            "\n",
            "Teks: Thank you for always making time for our mentoring sessions. Your availability and dedication have made me feel valued and supported.\n",
            "Sentimen: positive\n",
            "\n",
            "Teks: Your mentorship has not only provided me with valuable skills but also boosted my confidence. I now believe in my abilities more than ever.\n",
            "Sentimen: negative\n",
            "\n",
            "Teks: I appreciate your honesty and directness. Your feedback has helped me develop a stronger sense of self-awareness.\n",
            "Sentimen: positive\n",
            "\n",
            "Teks: You have a talent for identifying and nurturing potential. I'm grateful to have you as a mentor, guiding me towards my full potential.\n",
            "Sentimen: positive\n",
            "\n",
            "Teks: Your guidance has had a profound impact on my professional development. I am excited to continue learning and growing under your mentorship.\n",
            "Sentimen: positive\n",
            "\n"
          ]
        }
      ]
    },
    {
      "cell_type": "markdown",
      "source": [
        "### TEST DATA BURUK"
      ],
      "metadata": {
        "id": "n3z8lgsenAmG"
      }
    },
    {
      "cell_type": "code",
      "source": [
        "new_data = [\n",
        "    \"The mentor was unhelpful and lacked knowledge in the subject area.\",\n",
        "\"I found the mentor's explanations to be confusing and unclear.\",\n",
        "\"The mentor was often unavailable and unresponsive to my questions.\",\n",
        "\"I felt neglected by the mentor as they showed favoritism towards other students.\",\n",
        "\"The mentor provided minimal feedback and did not offer any guidance for improvement.\",\n",
        "\"I was disappointed with the mentor's constant cancellations and rescheduling of sessions.\",\n",
        "\"The mentor seemed disinterested and unenthusiastic during our mentoring sessions.\",\n",
        "\"I found the mentor to be impatient and easily frustrated when I asked for help.\",\n",
        "\"The mentor did not create a supportive and inclusive learning environment for all students.\",\n",
        "\"The mentor's knowledge and information were outdated, providing little value in the sessions.\"\n",
        "]\n",
        "\n",
        "# Ekstraksi fitur TF-IDF pada data baru\n",
        "new_data_transformed = vectorizer.transform(new_data)\n",
        "\n",
        "# Melakukan prediksi pada data baru\n",
        "new_data_pred = classifier.predict(new_data_transformed)\n",
        "\n",
        "# Cetak hasil prediksi\n",
        "for data, pred in zip(new_data, new_data_pred):\n",
        "    sentiment = \"positive\" if pred == 1 else \"negative\"\n",
        "    print(\"Teks:\", data)\n",
        "    print(\"Sentimen:\", sentiment)\n",
        "    print()"
      ],
      "metadata": {
        "colab": {
          "base_uri": "https://localhost:8080/"
        },
        "id": "RvtHeDs1kMTZ",
        "outputId": "82c459f7-7c9c-4ecc-d34b-667239d894b9"
      },
      "execution_count": null,
      "outputs": [
        {
          "output_type": "stream",
          "name": "stdout",
          "text": [
            "Teks: The mentor was unhelpful and lacked knowledge in the subject area.\n",
            "Sentimen: positive\n",
            "\n",
            "Teks: I found the mentor's explanations to be confusing and unclear.\n",
            "Sentimen: positive\n",
            "\n",
            "Teks: The mentor was often unavailable and unresponsive to my questions.\n",
            "Sentimen: positive\n",
            "\n",
            "Teks: I felt neglected by the mentor as they showed favoritism towards other students.\n",
            "Sentimen: positive\n",
            "\n",
            "Teks: The mentor provided minimal feedback and did not offer any guidance for improvement.\n",
            "Sentimen: positive\n",
            "\n",
            "Teks: I was disappointed with the mentor's constant cancellations and rescheduling of sessions.\n",
            "Sentimen: positive\n",
            "\n",
            "Teks: The mentor seemed disinterested and unenthusiastic during our mentoring sessions.\n",
            "Sentimen: positive\n",
            "\n",
            "Teks: I found the mentor to be impatient and easily frustrated when I asked for help.\n",
            "Sentimen: positive\n",
            "\n",
            "Teks: The mentor did not create a supportive and inclusive learning environment for all students.\n",
            "Sentimen: positive\n",
            "\n",
            "Teks: The mentor's knowledge and information were outdated, providing little value in the sessions.\n",
            "Sentimen: positive\n",
            "\n"
          ]
        }
      ]
    },
    {
      "cell_type": "markdown",
      "source": [
        "### TEST DATA BAIK KE 2"
      ],
      "metadata": {
        "id": "H4Bs7vobonqX"
      }
    },
    {
      "cell_type": "code",
      "source": [
        "# Data baru untuk pengujian\n",
        "new_data = [\n",
        "    \"The mentor was extremely knowledgeable and provided thorough explanations.\",\n",
        "\"I appreciated the mentor's responsiveness and willingness to assist whenever I had questions.\",\n",
        "\"The mentor's guidance and support greatly contributed to my understanding of the subject.\",\n",
        "\"I felt valued and supported by the mentor, as they treated all students equally.\",\n",
        "\"The mentor provided constructive feedback that helped me improve my skills and knowledge.\",\n",
        "\"I was impressed by the mentor's punctuality and commitment to our mentoring sessions.\",\n",
        "\"The mentor's enthusiasm and passion for the subject were contagious and inspiring.\",\n",
        "\"I found the mentor to be patient and understanding, even when I struggled with complex topics.\",\n",
        "\"The mentor fostered a positive and inclusive learning environment for all students.\",\n",
        "\"The mentor stayed up-to-date with the latest developments, providing relevant and current information.\"\n",
        "]\n",
        "\n",
        "# Ekstraksi fitur TF-IDF pada data baru\n",
        "new_data_transformed = vectorizer.transform(new_data)\n",
        "\n",
        "# Melakukan prediksi pada data baru\n",
        "new_data_pred = classifier.predict(new_data_transformed)\n",
        "\n",
        "# Cetak hasil prediksi\n",
        "for data, pred in zip(new_data, new_data_pred):\n",
        "    sentiment = \"positive\" if pred == 1 else \"negative\"\n",
        "    print(\"Teks:\", data)\n",
        "    print(\"Sentimen:\", sentiment)\n",
        "    print()"
      ],
      "metadata": {
        "colab": {
          "base_uri": "https://localhost:8080/"
        },
        "id": "YklNmSX6m7An",
        "outputId": "b27e45cc-b9e4-4e42-b7ca-e138d9a894ee"
      },
      "execution_count": null,
      "outputs": [
        {
          "output_type": "stream",
          "name": "stdout",
          "text": [
            "Teks: The mentor was extremely knowledgeable and provided thorough explanations.\n",
            "Sentimen: positive\n",
            "\n",
            "Teks: I appreciated the mentor's responsiveness and willingness to assist whenever I had questions.\n",
            "Sentimen: positive\n",
            "\n",
            "Teks: The mentor's guidance and support greatly contributed to my understanding of the subject.\n",
            "Sentimen: positive\n",
            "\n",
            "Teks: I felt valued and supported by the mentor, as they treated all students equally.\n",
            "Sentimen: positive\n",
            "\n",
            "Teks: The mentor provided constructive feedback that helped me improve my skills and knowledge.\n",
            "Sentimen: positive\n",
            "\n",
            "Teks: I was impressed by the mentor's punctuality and commitment to our mentoring sessions.\n",
            "Sentimen: positive\n",
            "\n",
            "Teks: The mentor's enthusiasm and passion for the subject were contagious and inspiring.\n",
            "Sentimen: positive\n",
            "\n",
            "Teks: I found the mentor to be patient and understanding, even when I struggled with complex topics.\n",
            "Sentimen: positive\n",
            "\n",
            "Teks: The mentor fostered a positive and inclusive learning environment for all students.\n",
            "Sentimen: positive\n",
            "\n",
            "Teks: The mentor stayed up-to-date with the latest developments, providing relevant and current information.\n",
            "Sentimen: positive\n",
            "\n"
          ]
        }
      ]
    },
    {
      "cell_type": "markdown",
      "source": [
        "### TEST DATA BURUK KE 2"
      ],
      "metadata": {
        "id": "PJVgqtoyzoNv"
      }
    },
    {
      "cell_type": "code",
      "source": [
        "new_data = [\n",
        "    \"Your explanations are confusing and unclear, making it difficult for students to grasp the concepts.\",\n",
        "\"You show little enthusiasm or passion for the subject, which affects students' motivation to learn.\",\n",
        "\"Your teaching methods are outdated and fail to engage students in active learning.\",\n",
        "\"You often overlook individual student needs and struggle to provide personalized guidance.\",\n",
        "\"Your classroom management skills are lacking, leading to a disruptive and chaotic learning environment.\",\n",
        "\"You frequently use inappropriate language or make offensive remarks, creating an uncomfortable atmosphere for students.\",\n",
        "\"Your organization and planning skills are poor, resulting in a disorganized curriculum and missed learning opportunities.\",\n",
        "\"You rarely give constructive feedback, leaving students unsure about their progress and how to improve.\",\n",
        "\"You have a tendency to favor certain students, neglecting others and creating an unfair learning environment.\",\n",
        "\"Your lack of availability and accessibility outside of class makes it difficult for students to seek additional help or clarification.\"]\n",
        "\n",
        "# Ekstraksi fitur TF-IDF pada data baru\n",
        "new_data_transformed = vectorizer.transform(new_data)\n",
        "\n",
        "# Melakukan prediksi pada data baru\n",
        "new_data_pred = classifier.predict(new_data_transformed)\n",
        "\n",
        "# Cetak hasil prediksi\n",
        "for data, pred in zip(new_data, new_data_pred):\n",
        "    sentiment = \"positive\" if pred == 1 else \"negative\"\n",
        "    print(\"Teks:\", data)\n",
        "    print(\"Sentimen:\", sentiment)\n",
        "    print()"
      ],
      "metadata": {
        "colab": {
          "base_uri": "https://localhost:8080/"
        },
        "id": "cDRFgOuBovCa",
        "outputId": "981ff3e7-45fb-4151-c61f-eff549a967d9"
      },
      "execution_count": null,
      "outputs": [
        {
          "output_type": "stream",
          "name": "stdout",
          "text": [
            "Teks: Your explanations are confusing and unclear, making it difficult for students to grasp the concepts.\n",
            "Sentimen: positive\n",
            "\n",
            "Teks: You show little enthusiasm or passion for the subject, which affects students' motivation to learn.\n",
            "Sentimen: positive\n",
            "\n",
            "Teks: Your teaching methods are outdated and fail to engage students in active learning.\n",
            "Sentimen: positive\n",
            "\n",
            "Teks: You often overlook individual student needs and struggle to provide personalized guidance.\n",
            "Sentimen: positive\n",
            "\n",
            "Teks: Your classroom management skills are lacking, leading to a disruptive and chaotic learning environment.\n",
            "Sentimen: positive\n",
            "\n",
            "Teks: You frequently use inappropriate language or make offensive remarks, creating an uncomfortable atmosphere for students.\n",
            "Sentimen: positive\n",
            "\n",
            "Teks: Your organization and planning skills are poor, resulting in a disorganized curriculum and missed learning opportunities.\n",
            "Sentimen: positive\n",
            "\n",
            "Teks: You rarely give constructive feedback, leaving students unsure about their progress and how to improve.\n",
            "Sentimen: positive\n",
            "\n",
            "Teks: You have a tendency to favor certain students, neglecting others and creating an unfair learning environment.\n",
            "Sentimen: positive\n",
            "\n",
            "Teks: Your lack of availability and accessibility outside of class makes it difficult for students to seek additional help or clarification.\n",
            "Sentimen: positive\n",
            "\n"
          ]
        }
      ]
    },
    {
      "cell_type": "markdown",
      "source": [
        "### TEST CAMPURAN"
      ],
      "metadata": {
        "id": "oYEm_yC12Uw-"
      }
    },
    {
      "cell_type": "code",
      "source": [
        "new_data = [\n",
        "    \n",
        "\"Your classroom management skills are lacking, leading to a disruptive and chaotic learning environment.\"\n",
        "    ]\n",
        "\n",
        "# Ekstraksi fitur TF-IDF pada data baru\n",
        "new_data_transformed = vectorizer.transform(new_data)\n",
        "\n",
        "# Melakukan prediksi pada data baru\n",
        "new_data_pred = classifier.predict(new_data_transformed)\n",
        "\n",
        "# Cetak hasil prediksi\n",
        "for data, pred in zip(new_data, new_data_pred):\n",
        "    sentiment = \"positive\" if pred == 'Good' else \"negative\"\n",
        "    print(\"Teks:\", data)\n",
        "    print(\"Sentimen:\", sentiment)\n",
        "    print()"
      ],
      "metadata": {
        "colab": {
          "base_uri": "https://localhost:8080/"
        },
        "id": "Jx7J8wxqz2Ls",
        "outputId": "2e00d29b-c472-468c-c147-fa32cc8b4f15"
      },
      "execution_count": null,
      "outputs": [
        {
          "output_type": "stream",
          "name": "stdout",
          "text": [
            "Teks: Your classroom management skills are lacking, leading to a disruptive and chaotic learning environment.\n",
            "Sentimen: negative\n",
            "\n"
          ]
        }
      ]
    },
    {
      "cell_type": "code",
      "source": [],
      "metadata": {
        "id": "ngFVBEog1h-x"
      },
      "execution_count": null,
      "outputs": []
    }
  ]
}