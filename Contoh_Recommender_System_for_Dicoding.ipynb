{
  "nbformat": 4,
  "nbformat_minor": 0,
  "metadata": {
    "colab": {
      "provenance": [],
      "authorship_tag": "ABX9TyOsH1Ebd3Bhr4P8QrD9zFCS",
      "include_colab_link": true
    },
    "kernelspec": {
      "name": "python3",
      "display_name": "Python 3"
    },
    "language_info": {
      "name": "python"
    }
  },
  "cells": [
    {
      "cell_type": "markdown",
      "metadata": {
        "id": "view-in-github",
        "colab_type": "text"
      },
      "source": [
        "<a href=\"https://colab.research.google.com/github/abdinegara783/ML-Mentoring-Platform-Dicoding/blob/main/Contoh_Recommender_System_for_Dicoding.ipynb\" target=\"_parent\"><img src=\"https://colab.research.google.com/assets/colab-badge.svg\" alt=\"Open In Colab\"/></a>"
      ]
    },
    {
      "cell_type": "code",
      "execution_count": 1,
      "metadata": {
        "id": "NdFqqr4XQZ3T"
      },
      "outputs": [],
      "source": [
        "import numpy as np\n",
        "from scipy.spatial.distance import euclidean\n",
        "\n",
        "# Data mentor dan mentee contoh\n",
        "mentors = [\n",
        "    {\"name\": \"Mentor A\", \"interests\": [\"Machine Learning\", \"Python\"], \"location\": \"City A\"},\n",
        "    {\"name\": \"Mentor B\", \"interests\": [\"Data Science\", \"R\"], \"location\": \"City B\"},\n",
        "    {\"name\": \"Mentor C\", \"interests\": [\"Web Development\", \"JavaScript\"], \"location\": \"City A\"}\n",
        "]\n",
        "\n",
        "mentees = [\n",
        "    {\"name\": \"Mentee X\", \"interests\": [\"Machine Learning\", \"Python\"], \"location\": \"City A\"},\n",
        "    {\"name\": \"Mentee Y\", \"interests\": [\"Data Science\", \"Python\"], \"location\": \"City B\"},\n",
        "    {\"name\": \"Mentee Z\", \"interests\": [\"Web Development\", \"JavaScript\"], \"location\": \"City A\"}\n",
        "]\n",
        "\n"
      ]
    },
    {
      "cell_type": "code",
      "source": [
        "def calculate_similarity(mentor, mentee):\n",
        "    mentor_interests = set(mentor[\"interests\"])\n",
        "    mentee_interests = set(mentee[\"interests\"])\n",
        "    interest_similarity = len(mentor_interests.intersection(mentee_interests))\n",
        "\n",
        "    location_similarity = int(mentor[\"location\"] == mentee[\"location\"])\n",
        "\n",
        "    return interest_similarity + location_similarity\n",
        "\n",
        "def match_mentors_with_mentees(mentors, mentees):\n",
        "    num_mentors = len(mentors)\n",
        "    num_mentees = len(mentees)\n",
        "    mentor_indices = list(range(num_mentors))\n",
        "    mentee_indices = list(range(num_mentees))\n",
        "    mentor_matches = [-1] * num_mentors  # Inisialisasi dengan -1\n",
        "    mentee_matches = [-1] * num_mentees  # Inisialisasi dengan -1\n",
        "\n",
        "    # Perulangan pencocokan\n",
        "    for _ in range(min(num_mentors, num_mentees)):\n",
        "        best_mentor = -1\n",
        "        best_mentee = -1\n",
        "        max_similarity = -1\n",
        "\n",
        "        # Cari mentor dan mentee dengan tingkat kesamaan terbesar\n",
        "        for mentor_idx in mentor_indices:\n",
        "            for mentee_idx in mentee_indices:\n",
        "                similarity = calculate_similarity(mentors[mentor_idx], mentees[mentee_idx])\n",
        "                if similarity > max_similarity:\n",
        "                    max_similarity = similarity\n",
        "                    best_mentor = mentor_idx\n",
        "                    best_mentee = mentee_idx\n",
        "\n",
        "        # Tandai mentor dan mentee terbaik sebagai pasangan\n",
        "        mentor_matches[best_mentor] = best_mentee\n",
        "        mentee_matches[best_mentee] = best_mentor\n",
        "\n",
        "        # Hapus mentor dan mentee dari daftar yang tersedia\n",
        "        mentor_indices.remove(best_mentor)\n",
        "        mentee_indices.remove(best_mentee)\n",
        "\n",
        "    return mentor_matches, mentee_matches\n",
        "\n",
        "# Pencocokan mentor dan mentee\n",
        "mentor_matches, mentee_matches = match_mentors_with_mentees(mentors, mentees)\n",
        "\n",
        "# Tampilkan hasil pencocokan\n",
        "for mentor_idx, mentee_idx in enumerate(mentor_matches):\n",
        "    mentor_name = mentors[mentor_idx][\"name\"]\n",
        "    mentee_name = mentees[mentee_idx][\"name\"]\n",
        "    print(f\"{mentor_name} matched with {mentee_name}\")"
      ],
      "metadata": {
        "colab": {
          "base_uri": "https://localhost:8080/"
        },
        "id": "G_FJj3k-Rwc_",
        "outputId": "ee92e0f2-d4c7-4ca7-d4c2-efed3bd1069f"
      },
      "execution_count": 2,
      "outputs": [
        {
          "output_type": "stream",
          "name": "stdout",
          "text": [
            "Mentor A matched with Mentee X\n",
            "Mentor B matched with Mentee Y\n",
            "Mentor C matched with Mentee Z\n"
          ]
        }
      ]
    }
  ]
}